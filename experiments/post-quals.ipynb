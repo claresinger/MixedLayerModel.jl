{
 "cells": [
  {
   "cell_type": "code",
   "execution_count": 1,
   "metadata": {},
   "outputs": [
    {
     "name": "stderr",
     "output_type": "stream",
     "text": [
      "┌ Warning: PyPlot is using tkagg backend, which is known to cause crashes on MacOS (#410); use the MPLBACKEND environment variable to request a different backend.\n",
      "└ @ PyPlot /Users/claresinger/.julia/packages/PyPlot/4wzW1/src/init.jl:192\n"
     ]
    },
    {
     "data": {
      "text/plain": [
       "run_with_output (generic function with 1 method)"
      ]
     },
     "execution_count": 1,
     "metadata": {},
     "output_type": "execute_result"
    }
   ],
   "source": [
    "using Roots\n",
    "using SteadyStateDiffEq\n",
    "using PyPlot\n",
    "using Revise\n",
    "using Parameters\n",
    "\n",
    "include(\"runMLM.jl\")"
   ]
  },
  {
   "cell_type": "code",
   "execution_count": 2,
   "metadata": {},
   "outputs": [
    {
     "name": "stdout",
     "output_type": "stream",
     "text": [
      "0.8\n",
      "0.8297948589443854\n",
      "0.8925512852639037\n",
      "0.946690316536834\n"
     ]
    }
   ],
   "source": [
    "include(\"runMLM.jl\")\n",
    "\n",
    "par = interact_surf_params();\n",
    "println(atmos_emissivity(par));\n",
    "\n",
    "par.CO2 = 500.0;\n",
    "println(atmos_emissivity(par));\n",
    "\n",
    "par.CO2 = 800.0;\n",
    "println(atmos_emissivity(par));\n",
    "\n",
    "par.CO2 = 1200.0;\n",
    "println(atmos_emissivity(par));"
   ]
  },
  {
   "cell_type": "code",
   "execution_count": 3,
   "metadata": {},
   "outputs": [
    {
     "name": "stdout",
     "output_type": "stream",
     "text": [
      "Success\n",
      "CO2: 400\n",
      "u0: [900.0, 3.13275e5, 0.0096493, 290.0]\n",
      "uf: [943.484, 3.12135e5, 0.00867047, 290.0]\n",
      "du/u: [-5.83295e-11, 1.28914e-13, 7.49853e-12, 0.0]\n",
      "we = 5.660848189620318 (mm/s)\n",
      "zc = 409.77130789151477 (m)\n",
      "RH0 = 75.26966128660824 (%)\n",
      "LHF = 81.48866077692936 (W/m2)\n",
      "SHF = 6.741913127597101 (W/m2)\n",
      "LWP = 179.55777051664023 (g/m^2)\n",
      "ΔR = 91.52691287373051 (W/m^2)\n",
      "\n",
      "OHU: -36.43570461316585 (W/m^2)\n",
      "0.8\n",
      "Success\n",
      "CO2: 400\n",
      "u0: [900.0, 3.13275e5, 0.0096493, 290.0]\n",
      "uf: [941.946, 3.12102e5, 0.00866628, 289.98]\n",
      "du/u: [-1.37066e-11, -9.09534e-13, -5.16298e-12, -4.13764e-13]\n",
      "we = 5.651665881831635 (mm/s)\n",
      "zc = 410.16101209297835 (m)\n",
      "RH0 = 75.3449404420089 (%)\n",
      "LHF = 81.21238266998368 (W/m2)\n",
      "SHF = 6.765312874079427 (W/m2)\n",
      "LWP = 180.42956939795323 (g/m^2)\n",
      "ΔR = 91.51949144943575 (W/m^2)\n",
      "\n"
     ]
    }
   ],
   "source": [
    "include(\"runMLM.jl\")\n",
    "\n",
    "par = interact_surf_params();\n",
    "par.dSST = 0.0;\n",
    "u0, uf = run_with_output(par);\n",
    "\n",
    "OHU = calc_surf_RAD(uf,par) - calc_SHF(uf,par) - calc_LHF(uf,par);\n",
    "println(\"OHU: \",OHU,\" (W/m^2)\");\n",
    "\n",
    "par = interact_surf_params();\n",
    "par.dSST = 1.0;\n",
    "par.OHU = OHU;\n",
    "println(atmos_emissivity(par))\n",
    "u0, uf = run_with_output(par);"
   ]
  },
  {
   "cell_type": "code",
   "execution_count": 4,
   "metadata": {},
   "outputs": [
    {
     "name": "stdout",
     "output_type": "stream",
     "text": [
      "0.8925512852639037\n",
      "Success\n",
      "CO2: 800.0\n",
      "u0: [900.0, 3.13275e5, 0.0096493, 290.0]\n",
      "uf: [1434.96, 3.24938e5, 0.0104351, 297.111]\n",
      "du/u: [1.26673e-11, 4.10581e-13, 7.11325e-13, -6.97216e-14]\n",
      "we = 8.609769434216354 (mm/s)\n",
      "zc = 195.76478286693305 (m)\n",
      "RH0 = 52.82781404815397 (%)\n",
      "LHF = 202.7332313261678 (W/m2)\n",
      "SHF = -5.174055487323244 (W/m2)\n",
      "LWP = 40.78243199063432 (g/m^2)\n",
      "ΔR = 60.86803374515216 (W/m^2)\n",
      "\n"
     ]
    }
   ],
   "source": [
    "par = interact_surf_params();\n",
    "par.dSST = 1.0;\n",
    "par.OHU = OHU;\n",
    "par.CO2 = 800.0;\n",
    "println(atmos_emissivity(par))\n",
    "u0, uf = run_with_output(par);"
   ]
  },
  {
   "cell_type": "code",
   "execution_count": 53,
   "metadata": {},
   "outputs": [
    {
     "data": {
      "text/plain": [
       "run_grid_exp (generic function with 1 method)"
      ]
     },
     "execution_count": 53,
     "metadata": {},
     "output_type": "execute_result"
    }
   ],
   "source": [
    "function run_exp(var, etype::ent_type, rtype::rad_type, ftype::flux_type)\n",
    "    \n",
    "    default = CPQ_params();\n",
    "    \n",
    "    num = 3;\n",
    "    pert = 20/100; LHFs = default.LHF .* collect(range(1.0-pert, length=num, stop=1.0+pert));                                 \n",
    "    pert = 24/100; DFRs = default.DFR .* collect(range(1.0-pert, length=num, stop=1.0+pert));\n",
    "    pert = 90/100; SHFs = default.SHF .* collect(range(1.0-pert, length=num, stop=1.0+pert));\n",
    "    pert = 6/100; Ds = default.D .* collect(range(1.0-pert, length=num, stop=1.0+pert));\n",
    "    pert = 0.5/100; sft0s = default.sft0 .* collect(range(1.0-pert, length=num, stop=1.0+pert));\n",
    "        \n",
    "    # create empty arrays for output\n",
    "    u0s = Any[];\n",
    "    ufs = Any[];\n",
    "    params = Any[];\n",
    "\n",
    "    if var == \"DFR\"\n",
    "        x_list = DFRs\n",
    "    elseif var == \"D\"\n",
    "        x_list = Ds\n",
    "    elseif var == \"inv\"\n",
    "        x_list = sft0s\n",
    "    elseif var == \"SST\"\n",
    "        x_list = SSTs\n",
    "    elseif var == \"LHF\"\n",
    "        x_list = LHFs\n",
    "    elseif var == \"SHF\"\n",
    "        x_list = SHFs\n",
    "    end\n",
    "    \n",
    "    for x in x_list\n",
    "        # define parameter array\n",
    "        par = set_run_params([var],[x],etype,rtype,ftype);  \n",
    "                        \n",
    "        # run MLM to steady state\n",
    "        u0, uf, par = run_steadystate(par);\n",
    "\n",
    "        # print output\n",
    "        println(\"u0: \",u0)\n",
    "        println(\"uf: \",uf)\n",
    "        du = zeros(4);\n",
    "        mlm(du, uf, par, 0.0)\n",
    "        println(\"du/u: \", du ./ uf)\n",
    "        zi,hM,qM,SST = uf;\n",
    "        println(\"we = \",we(zi,hM,qM,SST,par,par.etype,par.rtype)*1000, \" (mm/s)\")\n",
    "        println(\"eta = \",calc_eta(uf,par));\n",
    "        println(\"zb = \",LCL(zi,hM,qM),\" (m)\")\n",
    "        println(\"RH0 = \",RH(0.0,hM,qM)*100.0,\" (%)\")\n",
    "        println(\"LHF = \",calc_LHF(qM,SST,par),\" (W/m2)\")\n",
    "        println(\"SHF = \",calc_SHF(hM,qM,SST,par),\" (W/m2)\")\n",
    "        println()\n",
    "\n",
    "        # add output to array\n",
    "        push!(u0s, u0)\n",
    "        push!(ufs, uf)\n",
    "        push!(params, par)\n",
    "    end\n",
    "    \n",
    "    return u0s, ufs, params\n",
    "end\n",
    "                    \n",
    "function run_dense_exp(var, etype::ent_type, rtype::rad_type, ftype::flux_type)\n",
    "    default = CPQ_params();\n",
    "    \n",
    "    num = 7;\n",
    "    pert = 10/100; LHFs = default.LHF .* collect(range(1.0-pert, length=num, stop=1.0+pert));                                 \n",
    "    pert = 12/100; DFRs = default.DFR .* collect(range(1.0-pert, length=num, stop=1.0+pert));\n",
    "    pert = 90/100; SHFs = default.SHF .* collect(range(1.0-pert, length=num, stop=1.0+pert));\n",
    "    pert = 12/100; Ds = default.D .* collect(range(1.0-pert, length=num, stop=1.0+pert));\n",
    "    pert = 0.5/100; sft0s = default.sft0 .* collect(range(1.0-pert, length=num, stop=1.0+pert));\n",
    "        \n",
    "    # create empty arrays for output\n",
    "    u0s = Any[];\n",
    "    ufs = Any[];\n",
    "    params = Any[];\n",
    "\n",
    "    if var == \"DFR\"\n",
    "        x_list = DFRs\n",
    "    elseif var == \"D\"\n",
    "        x_list = Ds\n",
    "    elseif var == \"inv\"\n",
    "        x_list = sft0s\n",
    "    elseif var == \"SST\"\n",
    "        x_list = SSTs\n",
    "    elseif var == \"LHF\"\n",
    "        x_list = LHFs\n",
    "    elseif var == \"SHF\"\n",
    "        x_list = SHFs\n",
    "    end\n",
    "    \n",
    "    for x in x_list\n",
    "        # define parameter array\n",
    "        par = set_run_params([var],[x],etype,rtype,ftype);  \n",
    "                        \n",
    "        # run MLM to steady state\n",
    "        u0, uf, par = run_steadystate(par);\n",
    "\n",
    "        # add output to array\n",
    "        push!(u0s, u0)\n",
    "        push!(ufs, uf)\n",
    "        push!(params, par)\n",
    "    end\n",
    "    \n",
    "    return u0s, ufs, params\n",
    "end\n",
    "                                        \n",
    "function run_grid_exp(num, var1, var2, etype::ent_type, rtype::rad_type, ftype::flux_type, exp_type; bowen=-1.0)\n",
    "    default = CPQ_params();\n",
    "    \n",
    "#     LHFs = default.LHF .* collect(range(1.0, length=num, stop=1.0+0.05));                         \n",
    "#     DFRs = default.DFR .* collect(range(1.0, length=num, stop=1.0-0.06));\n",
    "#     SHFs = default.SHF .* collect(range(1.0, length=num, stop=1.0-0.45));\n",
    "#     Ds = default.D .* collect(range(1.0, length=num, stop=1.0-0.03));\n",
    "#     sft0s = default.sft0 .* collect(range(1.0, length=num, stop=1.0-0.01));\n",
    "                                            \n",
    "    pert = 10/100; LHFs = default.LHF .* collect(range(1.0-pert, length=num, stop=1.0+pert));                                 \n",
    "    pert = 12/100; DFRs = default.DFR .* collect(range(1.0-pert, length=num, stop=1.0+pert));\n",
    "    pert = 90/100; SHFs = default.SHF .* collect(range(1.0-pert, length=num, stop=1.0+pert));\n",
    "    pert = 12/100; Ds = default.D .* collect(range(1.0-pert, length=num, stop=1.0+pert));\n",
    "    pert = 0.5/100; sft0s = default.sft0 .* collect(range(1.0-pert, length=num, stop=1.0+pert));\n",
    "        \n",
    "    # create empty arrays for output\n",
    "    u0s = Any[];\n",
    "    ufs = Any[];\n",
    "    params = Any[];\n",
    "\n",
    "    if var1 == \"DFR\"\n",
    "        x1_list = DFRs\n",
    "    elseif var1 == \"SHF\"\n",
    "        x1_list = SHFs\n",
    "    elseif var1 == \"D\"\n",
    "        x1_list = Ds\n",
    "    elseif var1 == \"inv\"\n",
    "        x1_list = sft0s\n",
    "    end\n",
    "    if var2 == \"LHF\"\n",
    "        x2_list = LHFs\n",
    "    end\n",
    "    \n",
    "    for x1 in x1_list\n",
    "        println(var1,\"\\t\",x1);\n",
    "        for x2 in x2_list\n",
    "            println(var2,\"\\t\",x2);\n",
    "                                                    \n",
    "            vars = [var1,var2];\n",
    "            xs = [x1,x2];\n",
    "            \n",
    "            # define parameter array\n",
    "            if exp_type == \"baseline\"\n",
    "                par = set_baseline_run_params(vars,xs,etype,rtype,ftype);\n",
    "            elseif exp_type == \"bowen\"\n",
    "                par = set_fixedBo_run_params(vars,xs,etype,rtype,ftype,bowen);\n",
    "            elseif exp_type == \"SCT\"\n",
    "                par = set_SCT_run_params(vars,xs,etype,rtype,ftype);\n",
    "            elseif exp_type == \"CC\"\n",
    "                par = set_CC_run_params(vars,xs,etype,rtype,ftype);\n",
    "            end\n",
    "#             println(par);\n",
    "\n",
    "            # run MLM to steady state\n",
    "            u0, uf, par = run_steadystate(par);\n",
    "                                                        \n",
    "            # print output\n",
    "            if num < 3\n",
    "                println(\"u0: \",u0)\n",
    "                println(\"uf: \",uf)\n",
    "                du = zeros(4);\n",
    "                mlm(du, uf, par, 0.0)\n",
    "                println(\"du/u: \", du ./ uf)\n",
    "                zi,hM,qM,SST = uf;\n",
    "                println(\"we = \",we(zi,hM,qM,SST,par,par.etype,par.rtype)*1000, \" (mm/s)\")\n",
    "                println(\"zb = \",LCL(zi,hM,qM),\" (m)\")\n",
    "                println(\"RH0 = \",RH(0.0,hM,qM)*100.0,\" (%)\")\n",
    "                println(\"LHF = \",calc_LHF(qM,SST,par),\" (W/m2)\")\n",
    "                println(\"SHF = \",calc_SHF(hM,qM,SST,par),\" (W/m2)\")\n",
    "                println()\n",
    "            end\n",
    "\n",
    "            # add output to array\n",
    "            push!(u0s, u0)\n",
    "            push!(ufs, uf)\n",
    "            push!(params, par)\n",
    "        end\n",
    "    end\n",
    "    \n",
    "    return u0s, ufs, params\n",
    "end"
   ]
  },
  {
   "cell_type": "code",
   "execution_count": 41,
   "metadata": {},
   "outputs": [
    {
     "name": "stdout",
     "output_type": "stream",
     "text": [
      "\n",
      "\n",
      "DFR\n",
      "Success\n",
      "u0: [900.0, 3.13275e5, 0.0096493, 290.0]\n",
      "uf: [922.867, 320646.0, 0.0103732, 290.0]\n",
      "du/u: [1.51334e-13, 1.29155e-12, 8.77639e-12, 0.0]\n",
      "we = 5.537203830580006 (mm/s)\n",
      "eta = 0.8325710814212246\n",
      "zb = 731.9108707949082 (m)\n",
      "RH0 = 68.30682848122109 (%)\n",
      "LHF = 107.0 (W/m2)\n",
      "SHF = 2.299999999999997 (W/m2)\n",
      "\n",
      "Success\n",
      "u0: [900.0, 3.13275e5, 0.0096493, 290.0]\n",
      "uf: [1007.21, 3.17323e5, 0.00958143, 290.0]\n",
      "du/u: [-7.85208e-12, -9.21306e-13, -4.40594e-12, 0.0]\n",
      "we = 6.043275596112881 (mm/s)\n",
      "eta = 0.8727478302272093\n",
      "zb = 712.3456557285426 (m)\n",
      "RH0 = 68.79952761429549 (%)\n",
      "LHF = 107.0 (W/m2)\n",
      "SHF = 2.299999999999997 (W/m2)\n",
      "\n",
      "Success\n",
      "u0: [900.0, 3.13275e5, 0.0096493, 290.0]\n",
      "uf: [1077.79, 3.14544e5, 0.0089837, 290.0]\n",
      "du/u: [-1.00907e-12, -6.6968e-13, -4.12615e-12, 0.0]\n",
      "we = 6.466740874609341 (mm/s)\n",
      "eta = 0.8973780868894\n",
      "zb = 671.3566575910717 (m)\n",
      "RH0 = 70.11775027982766 (%)\n",
      "LHF = 107.0 (W/m2)\n",
      "SHF = 2.299999999999997 (W/m2)\n",
      "\n"
     ]
    }
   ],
   "source": [
    "include(\"ODE.jl\")\n",
    "include(\"ProfilePlots.jl\")\n",
    "\n",
    "ety = bflux();\n",
    "rty = direct();\n",
    "fty = fixFlux();\n",
    "var_list = [\"DFR\",\"D\",\"LHF\",\"SHF\",\"inv\"];\n",
    "var_list = [\"DFR\"];\n",
    "\n",
    "#phi_list = [\"theta\",\"T\",\"p\",\"h\",\"qt\",\"ql\",\"RH\",\"cf\",\"bflux\"];\n",
    "#phi_list = [\"ql\",\"theta\",\"T\",\"RH\",\"bflux\"];\n",
    "phi_list = [\"ql\",\"theta\"];\n",
    "\n",
    "for (i,var) in enumerate(var_list)\n",
    "    println(\"\\n\\n\",var);\n",
    "    u0s, ufs, params = run_exp(var, ety, rty, fty);\n",
    "#     plot_three_profs_generic(ufs, params, \"h\", \"qt\", \"ql\", var)\n",
    "#     for phi in phi_list\n",
    "#         print(phi,\"\\t\");\n",
    "#         plot_prof_generic(ufs, params, phi, var);\n",
    "#     end\n",
    "end"
   ]
  },
  {
   "cell_type": "code",
   "execution_count": 52,
   "metadata": {},
   "outputs": [
    {
     "name": "stdout",
     "output_type": "stream",
     "text": [
      "CPQ_params\n",
      "  SST0: Float64 290.0\n",
      "  dSST: Float64 0.0\n",
      "  D: Float64 6.0e-6\n",
      "  DFR: Float64 74.0\n",
      "  RHsurf: Float64 0.8\n",
      "  RHft: Float64 0.25\n",
      "  Gamma_q: Float64 -3.0e-6\n",
      "  sft0: Int64 297\n",
      "  Gamma_s: Float64 0.005\n",
      "  qft0: Float64 0.006708503509872937\n",
      "  A: Float64 2.0\n",
      "  LHF: Float64 107.0\n",
      "  SHF: Float64 2.3\n",
      "  etype: bflux bflux()\n",
      "  rtype: direct direct()\n",
      "  ftype: fixFlux fixFlux()\n",
      "\n",
      "Success\n",
      "u0: [900.0, 3.13275e5, 0.0096493, 290.0]\n",
      "uf: [1007.21, 3.17323e5, 0.00958143, 290.0]\n",
      "du/u: [-7.85208e-12, -9.21306e-13, -4.40594e-12, 0.0]\n",
      "we = 6.043275596112881 (mm/s)\n",
      "zb = 712.3456557285426 (m)\n",
      "RH0 = 68.79952761429549 (%)\n",
      "LHF = 107.0 (W/m2)\n",
      "SHF = 2.299999999999997 (W/m2)\n",
      "\n"
     ]
    }
   ],
   "source": [
    "ubase, pbase = run_base(ety, rty, fty);"
   ]
  },
  {
   "cell_type": "code",
   "execution_count": 77,
   "metadata": {},
   "outputs": [
    {
     "name": "stdout",
     "output_type": "stream",
     "text": [
      "94.91052182394169\n"
     ]
    }
   ],
   "source": [
    "zi0, hM0, qtM0, SST0 = ubase;\n",
    "lwp0 = calc_LWP(zi0,hM0,qtM0) * 1000.0;\n",
    "println(lwp0);"
   ]
  },
  {
   "cell_type": "code",
   "execution_count": 74,
   "metadata": {},
   "outputs": [
    {
     "name": "stdout",
     "output_type": "stream",
     "text": [
      "Success\n",
      "Success\n",
      "Success\n",
      "Success\n",
      "Success\n",
      "Success\n",
      "Success\n"
     ]
    }
   ],
   "source": [
    "var = \"SHF\";\n",
    "u0s, ufs, params = run_dense_exp(var, ety, rty, fty);"
   ]
  },
  {
   "cell_type": "code",
   "execution_count": 75,
   "metadata": {},
   "outputs": [
    {
     "data": {
      "image/png": "[encoded data removed]",
      "text/plain": [
       "Figure(PyObject <Figure size 750x600 with 1 Axes>)"
      ]
     },
     "metadata": {},
     "output_type": "display_data"
    },
    {
     "name": "stdout",
     "output_type": "stream",
     "text": [
      "slope = -0.17851119298242876\n"
     ]
    }
   ],
   "source": [
    "include(\"LinAnalysis.jl\")\n",
    "plot_lwp(ubase, pbase, ufs, params, var);"
   ]
  },
  {
   "cell_type": "code",
   "execution_count": null,
   "metadata": {},
   "outputs": [],
   "source": []
  }
 ],
 "metadata": {
  "kernelspec": {
   "display_name": "Julia 1.1.0",
   "language": "julia",
   "name": "julia-1.1"
  },
  "language_info": {
   "file_extension": ".jl",
   "mimetype": "application/julia",
   "name": "julia",
   "version": "1.1.0"
  }
 },
 "nbformat": 4,
 "nbformat_minor": 4
}
