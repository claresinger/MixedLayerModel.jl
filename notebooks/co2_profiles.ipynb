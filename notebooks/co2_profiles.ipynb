{
  "cells": [
    {
      "cell_type": "code",
      "source": [
        "using FileIO\n",
        "using PyPlot\n",
        "using LaTeXStrings\n",
        "using MixedLayerModel"
      ],
      "outputs": [
        {
          "output_type": "stream",
          "name": "stderr",
          "text": [
            "┌ Info: Precompiling FileIO [5789e2e9-d7fb-5bc7-8068-2c6fae9b9549]\n",
            "└ @ Base loading.jl:1278\n",
            "┌ Info: Precompiling PyPlot [d330b81b-6aea-500a-939a-2ce795aea3ee]\n",
            "└ @ Base loading.jl:1278\n",
            "┌ Info: Precompiling MixedLayerModel [45e51734-b38e-40e9-bdad-5745a9e5fe6d]\n",
            "└ @ Base loading.jl:1278\n"
          ]
        }
      ],
      "execution_count": null,
      "metadata": {}
    },
    {
      "cell_type": "code",
      "source": [
        "out400 = load(\"../experiments/output/co2_400.jld2\")\n",
        "out500 = load(\"../experiments/output/co2_upstep_500.jld2\")\n",
        "out600 = load(\"../experiments/output/co2_upstep_600.jld2\")\n",
        "out700 = load(\"../experiments/output/co2_upstep_700.jld2\")\n",
        "out800 = load(\"../experiments/output/co2_upstep_800.jld2\")\n",
        "\n",
        "p = basic_params();"
      ],
      "outputs": [],
      "execution_count": null,
      "metadata": {}
    },
    {
      "cell_type": "code",
      "source": [
        "function profile(u, maxz)\n",
        "    zi, hM, qM, SST = u;\n",
        "    \n",
        "    stepz = 1.0;\n",
        "    z1 = collect(0:stepz:zi); z2 = collect(zi:stepz:maxz);\n",
        "    z = [z1;z2];\n",
        "    \n",
        "    h = [hM .* ones(length(z1)); h_ft(z2, p)];\n",
        "    qt = [qM .* ones(length(z1)); q_ft(z2, p)];\n",
        "    \n",
        "    θ = theta(z,h,qt); # K\n",
        "    \n",
        "    T = temp.(z,h,qt);\n",
        "    ql = q_l(z,T,qt) * 1000.0; # kg/kg -> g/kg\n",
        "    \n",
        "    return z, θ, ql \n",
        "end"
      ],
      "outputs": [],
      "execution_count": null,
      "metadata": {}
    },
    {
      "cell_type": "code",
      "source": [
        "rcParams = PyPlot.PyDict(PyPlot.matplotlib.\"rcParams\");\n",
        "rcParams[\"font.size\"] = 15;\n",
        "\n",
        "fig1 = figure(figsize=(10,8));\n",
        "ax1 = subplot(121);\n",
        "ax2 = subplot(122);\n",
        "\n",
        "exps = [out400, out500, out600, out700, out800];\n",
        "co2 = [400, 500, 600, 700, 800];\n",
        "maxz = 2000;\n",
        "\n",
        "for (i,o) in enumerate(exps)\n",
        "    u = o[\"uf\"];\n",
        "    z, θ, ql = profile(u, maxz)\n",
        "    ax1.plot(θ, z)\n",
        "    ax2.plot(ql, z, label=string(co2[i])*\" ppm\")\n",
        "end\n",
        "\n",
        "ax1.set_ylim([0,maxz]); ax2.set_ylim([0,maxz]);\n",
        "ax1.set_ylabel(\"z (m)\");\n",
        "ax1.set_xlabel(\"θ (K)\"); ax2.set_xlabel(\"ql (g/kg)\");\n",
        "legend();\n",
        "tight_layout();\n",
        "show()"
      ],
      "outputs": [],
      "execution_count": null,
      "metadata": {}
    },
    {
      "cell_type": "code",
      "source": [
        "rcParams = PyPlot.PyDict(PyPlot.matplotlib.\"rcParams\");\n",
        "rcParams[\"font.size\"] = 20;\n",
        "\n",
        "fig1 = figure(figsize=(7,7));\n",
        "ax1 = subplot(211);\n",
        "ax2 = subplot(212);\n",
        "\n",
        "exps = [out400, out500, out600, out700, out800];\n",
        "co2 = [400, 500, 600, 700, 800];\n",
        "\n",
        "for (i,o) in enumerate(exps)\n",
        "    u = o[\"uf\"];\n",
        "    co2i = co2[i];\n",
        "    zi, hM, qM, SST = u;\n",
        "    lwp = calc_LWP(zi, hM, qM) * 1000;\n",
        "    ax1.plot(co2i, lwp, \"o\", color=\"C0\", markersize=10.0)\n",
        "    ax2.plot(co2i, SST, \"o\", color=\"C0\", markersize=10.0)\n",
        "end\n",
        "\n",
        "ax2.set_xlabel(L\"CO$_2$ (ppm)\"); \n",
        "ax1.set_ylabel(L\"LWP (g/m$^2$)\"); ax2.set_ylabel(\"SST (K)\");\n",
        "tight_layout();\n",
        "savefig(\"./notebooks/figures/lwp_sst_co2.png\",dpi=400);\n",
        "show();"
      ],
      "outputs": [
        {
          "output_type": "error",
          "ename": "LoadError",
          "evalue": "UndefVarError: PyPlot not defined",
          "traceback": [
            "UndefVarError: PyPlot not defined",
            "",
            "Stacktrace:",
            " [1] top-level scope at In[1]:1",
            " [2] include_string(::Function, ::Module, ::String, ::String) at ./loading.jl:1091",
            " [3] execute_code(::String, ::String) at /Users/claresinger/.julia/packages/IJulia/rWZ9e/src/execute_request.jl:27",
            " [4] execute_request(::ZMQ.Socket, ::IJulia.Msg) at /Users/claresinger/.julia/packages/IJulia/rWZ9e/src/execute_request.jl:86",
            " [5] #invokelatest#1 at ./essentials.jl:710 [inlined]",
            " [6] invokelatest at ./essentials.jl:709 [inlined]",
            " [7] eventloop(::ZMQ.Socket) at /Users/claresinger/.julia/packages/IJulia/rWZ9e/src/eventloop.jl:8",
            " [8] (::IJulia.var\"#15#18\")() at ./task.jl:356"
          ]
        }
      ],
      "execution_count": 1,
      "metadata": {
        "execution": {
          "iopub.status.busy": "2020-10-17T21:48:52.953Z",
          "iopub.execute_input": "2020-10-17T21:48:53.392Z",
          "iopub.status.idle": "2020-10-17T21:48:54.123Z"
        }
      }
    },
    {
      "cell_type": "code",
      "source": [],
      "outputs": [],
      "execution_count": null,
      "metadata": {}
    }
  ],
  "metadata": {
    "kernelspec": {
      "display_name": "Julia 1.5.2",
      "language": "julia",
      "name": "julia-1.5"
    },
    "language_info": {
      "file_extension": ".jl",
      "name": "julia",
      "mimetype": "application/julia",
      "version": "1.5.2"
    },
    "nteract": {
      "version": "0.25.1"
    }
  },
  "nbformat": 4,
  "nbformat_minor": 4
}