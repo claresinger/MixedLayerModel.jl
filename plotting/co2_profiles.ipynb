{
 "cells": [
  {
   "cell_type": "code",
   "execution_count": 1,
   "metadata": {
    "execution": {
     "iopub.execute_input": "2020-10-20T16:08:32.761Z",
     "iopub.status.busy": "2020-10-20T16:08:32.209Z",
     "iopub.status.idle": "2020-10-20T16:09:12.662Z"
    }
   },
   "outputs": [],
   "source": [
    "using FileIO\n",
    "using PyPlot\n",
    "using LaTeXStrings\n",
    "using MixedLayerModel"
   ]
  },
  {
   "cell_type": "code",
   "execution_count": null,
   "metadata": {},
   "outputs": [],
   "source": [
    "function profile(u, maxz)\n",
    "    zi, hM, qM, SST = u;\n",
    "    \n",
    "    stepz = 1.0;\n",
    "    z1 = collect(0:stepz:zi); z2 = collect(zi:stepz:maxz);\n",
    "    z = [z1;z2];\n",
    "    \n",
    "    h = [hM .* ones(length(z1)); h_ft(z2, p)];\n",
    "    qt = [qM .* ones(length(z1)); q_ft(z2, p)];\n",
    "    \n",
    "    θ = theta(z,h,qt); # K\n",
    "    \n",
    "    T = temp.(z,h,qt);\n",
    "    ql = q_l(z,T,qt) * 1000.0; # kg/kg -> g/kg\n",
    "    \n",
    "    return z, θ, ql \n",
    "end"
   ]
  },
  {
   "cell_type": "code",
   "execution_count": 9,
   "metadata": {
    "execution": {
     "iopub.execute_input": "2020-10-20T16:12:59.122Z",
     "iopub.status.busy": "2020-10-20T16:12:59.119Z",
     "iopub.status.idle": "2020-10-20T16:12:59.228Z"
    }
   },
   "outputs": [],
   "source": [
    "path = \"../experiments/output/\";\n",
    "out400 = load(path*\"co2_400.jld2\");\n",
    "\n",
    "co2_vals = [500,600,700,800];\n",
    "exps = path*\"co2_upstep_\".*string.(co2_vals).*\".jld2\";\n",
    "exps_fixSST = path*\"co2_upstep_fixSST_\".*string.(co2_vals).*\".jld2\";\n",
    "\n",
    "out = load.(exps);\n",
    "out_fixSST = load.(exps_fixSST);\n",
    "\n",
    "p = basic_params();"
   ]
  },
  {
   "cell_type": "code",
   "execution_count": null,
   "metadata": {},
   "outputs": [],
   "source": [
    "rcParams = PyPlot.PyDict(PyPlot.matplotlib.\"rcParams\");\n",
    "rcParams[\"font.size\"] = 15;\n",
    "\n",
    "fig1 = figure(figsize=(10,8));\n",
    "ax1 = subplot(121);\n",
    "ax2 = subplot(122);\n",
    "\n",
    "exps = [out400, out500, out600, out700, out800];\n",
    "co2 = [400, 500, 600, 700, 800];\n",
    "maxz = 2000;\n",
    "\n",
    "for (i,o) in enumerate(exps)\n",
    "    u = o[\"uf\"];\n",
    "    z, θ, ql = profile(u, maxz)\n",
    "    ax1.plot(θ, z)\n",
    "    ax2.plot(ql, z, label=string(co2[i])*\" ppm\")\n",
    "end\n",
    "\n",
    "ax1.set_ylim([0,maxz]); ax2.set_ylim([0,maxz]);\n",
    "ax1.set_ylabel(\"z (m)\");\n",
    "ax1.set_xlabel(\"θ (K)\"); ax2.set_xlabel(\"ql (g/kg)\");\n",
    "legend();\n",
    "tight_layout();\n",
    "show()"
   ]
  },
  {
   "cell_type": "code",
   "execution_count": null,
   "metadata": {},
   "outputs": [],
   "source": []
  }
 ],
 "metadata": {
  "kernelspec": {
   "display_name": "Julia 1.5.2",
   "language": "julia",
   "name": "julia-1.5"
  },
  "language_info": {
   "file_extension": ".jl",
   "mimetype": "application/julia",
   "name": "julia",
   "version": "1.5.2"
  },
  "nteract": {
   "version": "0.25.1"
  }
 },
 "nbformat": 4,
 "nbformat_minor": 4
}
