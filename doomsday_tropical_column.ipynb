{
 "cells": [
  {
   "cell_type": "code",
   "execution_count": 1,
   "metadata": {},
   "outputs": [],
   "source": [
    "import numpy as np\n",
    "import matplotlib.pyplot as plt\n",
    "from scipy.optimize import curve_fit\n",
    "\n",
    "e0 = 611.0\n",
    "L0 = 2.5e6\n",
    "Rv = 461.0\n",
    "T0 = 273.15\n",
    "Rd = 287.0\n",
    "psurf = 1e5\n",
    "g = 9.8\n",
    "Cp = 1004\n",
    "Cpv = 1859\n",
    "\n",
    "def pres(z, T):\n",
    "    return psurf * np.exp((-g * z) / (Rd * T))\n",
    "\n",
    "def q_sat(z, T):\n",
    "    psat = e0 * np.exp(-L0/Rv * (1 / T - 1/T0))\n",
    "    return Rd/Rv * psat / (pres(z,T) - psat)\n",
    "\n",
    "def Γm(Tsurf):\n",
    "    qv = 0.8 * q_sat(0.0, Tsurf)\n",
    "    rv = qv / (1-qv)\n",
    "    Γd = g / Cp\n",
    "    Γus = Γd * (1 + rv) / (1 + rv*Cpv/Cp)\n",
    "    Γs = Γd * (1 + (L0*rv)/(Rd*Tsurf)) / (1 + (L0**2*rv)/(Rv*Cp*Tsurf**2))\n",
    "    return Γs\n",
    "\n",
    "def Tatmos(qft):\n",
    "    return 375 + 2.8*np.log(co2) + 21.1*np.log(qft)\n",
    "    # return 270 + 10*np.log(co2) + 10*np.log(qft)\n",
    "\n",
    "co2 = np.array([200,300,400,800,1000,1200,1300,1400,1600,200,300,400,800,1000,1200,1300,1400])\n",
    "cf = np.array([1.00,1.00,1.00,1.00,1.00,0.99,0.25,0.22,0.19,1.00,0.46,0.42,0.32,0.30,0.26,0.24,0.22])\n",
    "Tct = np.array([283.0,285.3,287.1,290.9,292.2,293.5,303.7,305.4,308.2,283.0,291.4,293.6,298.6,300.3,302.7,303.9,305.8])\n",
    "sst_T = np.array([296.7,298.4,299.8,303.4,304.9,306.2,314.8,316.8,319.8,296.7,302.8,304.5,309.2,311.0,313.7,315.1,317.3])\n",
    "sst_S = np.array([287.7,289.1,290.0,292.2,293.2,294.3,304.5,305.8,308.0,287.6,296.8,297.9,300.9,302.0,303.7,304.7,306.2])\n",
    "zi = np.array([1442,1349,1266,1078,1011,972,834,781,703,1416,1340,1230,1013,949,866,826,766])\n",
    "Teff = np.array([256.7,260.5,263.4,270.3,272.9,275.2,289.0,292.2,297.2,256.9,267.5,271.0,279.5,282.7,287.1,289.5,293.0])"
   ]
  },
  {
   "cell_type": "code",
   "execution_count": 41,
   "metadata": {},
   "outputs": [
    {
     "data": {
      "image/png": "[encoded data removed]",
      "text/plain": [
       "<Figure size 432x288 with 1 Axes>"
      ]
     },
     "metadata": {
      "needs_background": "light"
     },
     "output_type": "display_data"
    },
    {
     "name": "stdout",
     "output_type": "stream",
     "text": [
      "[-7.92290266  2.51045109  4.96539901]\n"
     ]
    },
    {
     "data": {
      "image/png": "[encoded data removed]",
      "text/plain": [
       "<Figure size 432x288 with 1 Axes>"
      ]
     },
     "metadata": {
      "needs_background": "light"
     },
     "output_type": "display_data"
    }
   ],
   "source": [
    "gamma = Γm(sst_T)\n",
    "Tft = sst_T - gamma*(zi+200)\n",
    "qct = 0.2 * q_sat(zi, Tct)\n",
    "qft = 0.2 * q_sat(zi, Tft)\n",
    "\n",
    "plt.plot(co2, Tatmos(qct), 'o')\n",
    "plt.plot(co2, Tct, 'o')\n",
    "plt.show()\n",
    "\n",
    "def dTa(x, a, b, c):\n",
    "    return a + b*np.log(x[0,:]) + c*np.log(x[1,:])\n",
    "\n",
    "p0 = [-6, 2.2, 5]\n",
    "x = np.vstack((co2, qct))\n",
    "y = Tatmos(qct) - Tct\n",
    "p1, pcov = curve_fit(dTa, x, y, p0)\n",
    "print(p1)\n",
    "\n",
    "plt.plot(x[0,:], y, 'o')\n",
    "plt.plot(x[0,:], dTa(x, p1[0], p1[1], p1[2]), '.')\n",
    "plt.plot(x[0,:], dTa(x, -7.92, 2.51, 4.97), '.')\n",
    "plt.show()"
   ]
  },
  {
   "cell_type": "code",
   "execution_count": 1,
   "metadata": {},
   "outputs": [
    {
     "ename": "NameError",
     "evalue": "name 'Γm' is not defined",
     "output_type": "error",
     "traceback": [
      "\u001b[0;31m---------------------------------------------------------------------------\u001b[0m",
      "\u001b[0;31mNameError\u001b[0m                                 Traceback (most recent call last)",
      "\u001b[0;32m<ipython-input-1-a4e4da45fc07>\u001b[0m in \u001b[0;36m<module>\u001b[0;34m\u001b[0m\n\u001b[0;32m----> 1\u001b[0;31m \u001b[0mgamma\u001b[0m \u001b[0;34m=\u001b[0m \u001b[0mΓm\u001b[0m\u001b[0;34m(\u001b[0m\u001b[0msst_T\u001b[0m\u001b[0;34m)\u001b[0m\u001b[0;34m\u001b[0m\u001b[0;34m\u001b[0m\u001b[0m\n\u001b[0m\u001b[1;32m      2\u001b[0m \u001b[0mTft\u001b[0m \u001b[0;34m=\u001b[0m \u001b[0msst_T\u001b[0m \u001b[0;34m-\u001b[0m \u001b[0mgamma\u001b[0m\u001b[0;34m*\u001b[0m\u001b[0;34m(\u001b[0m\u001b[0mzi\u001b[0m\u001b[0;34m+\u001b[0m\u001b[0;36m200\u001b[0m\u001b[0;34m)\u001b[0m\u001b[0;34m\u001b[0m\u001b[0;34m\u001b[0m\u001b[0m\n\u001b[1;32m      3\u001b[0m \u001b[0;34m\u001b[0m\u001b[0m\n\u001b[1;32m      4\u001b[0m \u001b[0mgamma_inf\u001b[0m \u001b[0;34m=\u001b[0m \u001b[0;34m(\u001b[0m\u001b[0msst_T\u001b[0m \u001b[0;34m-\u001b[0m \u001b[0mTct\u001b[0m\u001b[0;34m)\u001b[0m \u001b[0;34m/\u001b[0m \u001b[0;34m(\u001b[0m\u001b[0mzi\u001b[0m\u001b[0;34m+\u001b[0m\u001b[0;36m200\u001b[0m\u001b[0;34m)\u001b[0m\u001b[0;34m\u001b[0m\u001b[0;34m\u001b[0m\u001b[0m\n\u001b[1;32m      5\u001b[0m \u001b[0mprint\u001b[0m\u001b[0;34m(\u001b[0m\u001b[0mgamma\u001b[0m\u001b[0;34m)\u001b[0m\u001b[0;34m\u001b[0m\u001b[0;34m\u001b[0m\u001b[0m\n",
      "\u001b[0;31mNameError\u001b[0m: name 'Γm' is not defined"
     ]
    }
   ],
   "source": [
    "gamma = Γm(sst_T)\n",
    "Tft = sst_T - gamma*(zi+200)\n",
    "\n",
    "gamma_inf = (sst_T - Tct) / (zi+200)\n",
    "print(gamma)\n",
    "print(gamma_inf)\n",
    "\n",
    "plt.plot(sst_T, Tct, 'o', label=\"cloud-top temp diag from LES\")\n",
    "plt.plot(sst_T, Tft, 'o', label=\"FT temp diag from tropical col\")\n",
    "plt.xlabel(\"tropical SST (K)\")\n",
    "plt.ylabel(\"above-cloud T (K)\")\n",
    "plt.grid()\n",
    "plt.legend()\n",
    "plt.show()\n",
    "\n",
    "qct = 0.2 * q_sat(zi, Tct)\n",
    "qft = 0.2 * q_sat(zi, Tft)\n",
    "plt.plot(sst_T, qct*1e3, 'o', label=\"cloud-top q diag from LES\")\n",
    "plt.plot(sst_T, qft*1e3, 'o', label=\"FT q diag from tropical col\")\n",
    "plt.xlabel(\"tropical SST (K)\")\n",
    "plt.ylabel(\"above-cloud q (g/kg)\")\n",
    "plt.yscale('log')\n",
    "plt.yticks([2,3,4,6,8,16],[2,3,4,6,8,16])\n",
    "plt.grid()\n",
    "plt.legend()\n",
    "plt.show()\n",
    "\n",
    "plt.plot(sst_T, Tatmos(qct), 'o', label=\"Teff from qct\")\n",
    "#plt.plot(sst_T, Tatmos(qft), 'o', label=\"Teff from qft\")\n",
    "plt.plot(sst_T, Teff, 'o', label=\"Teff\")\n",
    "plt.xlabel(\"tropical SST (K)\")\n",
    "plt.ylabel(\"Teff (K)\")\n",
    "plt.grid()\n",
    "plt.legend()\n",
    "plt.show()"
   ]
  },
  {
   "cell_type": "code",
   "execution_count": null,
   "metadata": {},
   "outputs": [],
   "source": []
  }
 ],
 "metadata": {
  "interpreter": {
   "hash": "171abc14202d5c7c264b37d91793ecf265252c09297d01ec4cedf160487c916a"
  },
  "kernelspec": {
   "display_name": "Python 3.7.10 ('py3')",
   "language": "python",
   "name": "python3"
  },
  "language_info": {
   "codemirror_mode": {
    "name": "ipython",
    "version": 3
   },
   "file_extension": ".py",
   "mimetype": "text/x-python",
   "name": "python",
   "nbconvert_exporter": "python",
   "pygments_lexer": "ipython3",
   "version": "3.7.10"
  }
 },
 "nbformat": 4,
 "nbformat_minor": 4
}
