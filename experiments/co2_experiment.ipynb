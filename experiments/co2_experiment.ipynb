{
 "cells": [
  {
   "cell_type": "code",
   "execution_count": 1,
   "metadata": {},
   "outputs": [],
   "source": [
    "using MixedLayerModel\n",
    "using FileIO\n",
    "using DifferentialEquations\n",
    "using Sundials\n",
    "using Revise\n",
    "using Plots\n",
    "\n",
    "using Logging: global_logger\n",
    "using TerminalLoggers: TerminalLogger\n",
    "global_logger(TerminalLogger());"
   ]
  },
  {
   "cell_type": "code",
   "execution_count": 25,
   "metadata": {},
   "outputs": [
    {
     "name": "stderr",
     "output_type": "stream",
     "text": [
      "\u001b[32mODE   0%|                                               |  ETA: N/A\u001b[39m\n",
      "\u001b[32mODE  21%|█████████▊                                     |  ETA: 0:00:03\u001b[39m\n",
      "\u001b[32mODE  42%|███████████████████▋                           |  ETA: 0:00:02\u001b[39m\n",
      "\u001b[32mODE  62%|█████████████████████████████▍                 |  ETA: 0:00:01\u001b[39m\n",
      "\u001b[32mODE  83%|███████████████████████████████████████▏       |  ETA: 0:00:01\u001b[39m\n"
     ]
    },
    {
     "name": "stdout",
     "output_type": "stream",
     "text": [
      "  3.249631 seconds (23.85 M allocations: 744.442 MiB, 2.20% gc time)\n",
      "Success\n",
      "[914.0844994859599, 312455.74758193997, 0.008769258507783524, 290.0]\n",
      "[-8.660179815163548e-10, -2.6027569727870523e-12, 6.916097854286773e-11, 0.0]\n",
      "euler, dt=4 hrs"
     ]
    },
    {
     "name": "stderr",
     "output_type": "stream",
     "text": [
      "\u001b[90mODE 100%|███████████████████████████████████████████████| Time: 0:00:03\u001b[39m\n"
     ]
    },
    {
     "name": "stdout",
     "output_type": "stream",
     "text": [
      "\n"
     ]
    },
    {
     "name": "stderr",
     "output_type": "stream",
     "text": [
      "\u001b[32mODE   0%|                                               |  ETA: N/A\u001b[39m\n",
      "\u001b[32mODE  62%|█████████████████████████████▍                 |  ETA: 0:00:01\u001b[39m\n"
     ]
    },
    {
     "name": "stdout",
     "output_type": "stream",
     "text": [
      "  3.309880 seconds (24.30 M allocations: 758.455 MiB, 2.12% gc time)\n",
      "[914.0844994859599, 312455.74758193997, 0.008769258507783524, 290.0]\n"
     ]
    },
    {
     "name": "stderr",
     "output_type": "stream",
     "text": [
      "\u001b[90mODE 100%|███████████████████████████████████████████████| Time: 0:00:03\u001b[39m\n",
      "\u001b[33m\u001b[1m┌ \u001b[22m\u001b[39m\u001b[33m\u001b[1mWarning: \u001b[22m\u001b[39mSkipped marker arg o-.\n",
      "\u001b[33m\u001b[1m└ \u001b[22m\u001b[39m\u001b[90m@ Plots /Users/claresinger/.julia/packages/Plots/HcxwM/src/args.jl:1178\u001b[39m\n"
     ]
    }
   ],
   "source": [
    "include(\"mlm_solve_funcs.jl\")\n",
    "\n",
    "# set-up basic 400 ppm simulation\n",
    "par = basic_params();\n",
    "par.etype = bflux();\n",
    "path = \"./output/bflux_timeevolve/\";\n",
    "\n",
    "# run to steady-state\n",
    "u0, sol = run_mlm(par);\n",
    "\n",
    "# get output\n",
    "code = sol.retcode;\n",
    "uf = sol.u[end];\n",
    "du = zeros(4);\n",
    "mlm(du, uf, par, 0.0);\n",
    "zi,hM,qM,SST = uf;\n",
    "zb = calc_LCL(zi,hM,qM);\n",
    "println(code);\n",
    "println(uf);\n",
    "println(du ./ uf);\n",
    "\n",
    "# save to file\n",
    "output = Dict(\"code\" => code, \"p\"=>par, \"u0\" => u0, \"uf\" => uf, \"du/u\" => du./uf, \n",
    "\"we\" => we(uf,par,par.etype), \"zb\" => zb, \"zc\" => zi-zb,\n",
    "\"RHsurf\" => RH(0.0, hM, qM), \"LHF\" => calc_LHF(uf,par), \"SHF\" => calc_SHF(uf,par),\n",
    "\"ΔR\" => calc_cloudtop_RAD(uf,par,par.rtype), \"OHU\" => calc_OHU(uf,par,par.stype));\n",
    "save(path*\"co2_400.jld2\", output)\n",
    "\n",
    "# run steady-state\n",
    "u0, solss = run_mlm_ss(par);\n",
    "uf = solss.u;\n",
    "println(uf);\n",
    "# plot\n",
    "t = sol.t / 3600.0 / 24.0\n",
    "zi = getindex.(sol.u,1)\n",
    "hM = getindex.(sol.u,2) * 1e-3\n",
    "qtM = getindex.(sol.u,3) * 1e3\n",
    "plot(t, [zi, hM, qtM], marker=\"o-\", label=[\"zi(t) [m]\" \"hM(t) [kJ/kg]\" \"qtM(t) [g/kg]\"], legend=:top, layout=(3,1))\n",
    "hline!([uf[1]], label=\"SS, \"*string(round(uf[1],digits=1))*\" [m]\", subplot=1)\n",
    "hline!([uf[2]*1e-3], label=\"SS, \"*string(round(uf[2]*1e-3,digits=1))*\" [kJ/kg]\", subplot=2)\n",
    "hline!([uf[3]*1e3], label=\"SS, \"*string(round(uf[3]*1e3,digits=2))*\" [g/kg]\", subplot=3)\n",
    "title!(string(newCO2)*\" (ppm)\", subplot=1)\n",
    "xaxis!(\"t (days)\", subplot=3)\n",
    "mkpath(replace(path, \"output\" => \"figures\"))\n",
    "savefig(replace(path, \"output\" => \"figures\")*\"co2_400.png\")"
   ]
  },
  {
   "cell_type": "code",
   "execution_count": 23,
   "metadata": {},
   "outputs": [
    {
     "name": "stdout",
     "output_type": "stream",
     "text": [
      "[914.0844994859599, 312455.74758193997, 0.008769258507783524, 290.0]\n",
      "[-8.660179815163548e-10, -2.6027569727870523e-12, 6.916097854286773e-11, 0.0]\n"
     ]
    },
    {
     "name": "stderr",
     "output_type": "stream",
     "text": [
      "\u001b[32mODE   0%|                                               |  ETA: N/A\u001b[39m\n",
      "\u001b[32mODE  21%|█████████▊                                     |  ETA: 0:00:03\u001b[39m\n",
      "\u001b[32mODE  42%|███████████████████▋                           |  ETA: 0:00:02\u001b[39m\n",
      "\u001b[32mODE  62%|█████████████████████████████▍                 |  ETA: 0:00:01\u001b[39m\n",
      "\u001b[32mODE  83%|███████████████████████████████████████▏       |  ETA: 0:00:00\u001b[39m\n"
     ]
    },
    {
     "name": "stdout",
     "output_type": "stream",
     "text": [
      "  2.970193 seconds (21.79 M allocations: 680.117 MiB, 2.37% gc time)\n",
      "Success\n",
      "[821.4687904807417, 313441.3067497841, 0.009081485160264555, 290.0]\n",
      "[-4.275348380193225e-10, -1.5020002601886159e-12, 2.572859349004394e-11, 0.0]\n",
      "euler"
     ]
    },
    {
     "name": "stderr",
     "output_type": "stream",
     "text": [
      "\u001b[90mODE 100%|███████████████████████████████████████████████| Time: 0:00:02\u001b[39m\n"
     ]
    },
    {
     "name": "stdout",
     "output_type": "stream",
     "text": [
      "\n"
     ]
    },
    {
     "name": "stderr",
     "output_type": "stream",
     "text": [
      "\u001b[32mODE   0%|                                               |  ETA: N/A\u001b[39m\n",
      "\u001b[32mODE  62%|█████████████████████████████▍                 |  ETA: 0:00:01\u001b[39m\n"
     ]
    },
    {
     "name": "stdout",
     "output_type": "stream",
     "text": [
      "  2.726982 seconds (19.99 M allocations: 624.118 MiB, 2.11% gc time)\n",
      "[821.5211577614712, 313441.3769412, 0.009081450318938342, 290.0]\n"
     ]
    },
    {
     "name": "stderr",
     "output_type": "stream",
     "text": [
      "\u001b[90mODE 100%|███████████████████████████████████████████████| Time: 0:00:02\u001b[39m\n",
      "\u001b[33m\u001b[1m┌ \u001b[22m\u001b[39m\u001b[33m\u001b[1mWarning: \u001b[22m\u001b[39mSkipped marker arg o-.\n",
      "\u001b[33m\u001b[1m└ \u001b[22m\u001b[39m\u001b[90m@ Plots /Users/claresinger/.julia/packages/Plots/HcxwM/src/args.jl:1178\u001b[39m\n"
     ]
    }
   ],
   "source": [
    "include(\"mlm_solve_funcs.jl\")\n",
    "\n",
    "# set co2\n",
    "newCO2 = 600.0\n",
    "\n",
    "# load initial condition from file\n",
    "path = \"./output/bflux_timeevolve/\";\n",
    "output = load(path*\"co2_400.jld2\");\n",
    "u0 = output[\"uf\"];\n",
    "println(u0);\n",
    "mlm(du, u0, par, 0.0);\n",
    "println(du ./ u0);\n",
    "\n",
    "# increase CO2, let SST evolve and check cloud changes\n",
    "par.CO2 = newCO2;\n",
    "u0, sol = run_mlm_from_init(u0, par);\n",
    "\n",
    "# get output\n",
    "code = sol.retcode;\n",
    "uf = sol.u[end];\n",
    "du = zeros(4);\n",
    "mlm(du, uf, par, 0.0);\n",
    "zi,hM,qM,SST = uf;\n",
    "zb = calc_LCL(zi,hM,qM);\n",
    "println(code);\n",
    "println(uf);\n",
    "println(du ./ uf);\n",
    "\n",
    "# save to file\n",
    "output = Dict(\"code\" => code, \"p\" => par, \"u0\" => u0, \"uf\" => uf, \"du/u\" => du./uf, \n",
    "\"we\" => we(uf,par,par.etype), \"zb\" => zb, \"zc\" => zi-zb,\n",
    "\"RHsurf\" => RH(0.0, hM, qM), \"LHF\" => calc_LHF(uf,par), \"SHF\" => calc_SHF(uf,par),\n",
    "\"ΔR\" => calc_cloudtop_RAD(uf,par,par.rtype), \"OHU\" => calc_OHU(uf,par,par.stype))\n",
    "save(path*\"co2_upstep_fixSST_\"*string(Int(newCO2))*\".jld2\", output)\n",
    "\n",
    "# run steady-state\n",
    "u0, solss = run_mlm_ss_from_init(u0, par);\n",
    "uf = solss.u;\n",
    "println(uf);\n",
    "\n",
    "# plot\n",
    "t = sol.t / 3600.0 / 24.0\n",
    "zi = getindex.(sol.u,1)\n",
    "hM = getindex.(sol.u,2) * 1e-3\n",
    "qtM = getindex.(sol.u,3) * 1e3\n",
    "plot(t, [zi, hM, qtM], marker=\"o-\", label=[\"zi(t) [m]\" \"hM(t) [kJ/kg]\" \"qtM(t) [g/kg]\"], legend=:top, layout=(3,1))\n",
    "hline!([uf[1]], label=\"SS, \"*string(round(uf[1],digits=1))*\" [m]\", subplot=1)\n",
    "hline!([uf[2]*1e-3], label=\"SS, \"*string(round(uf[2]*1e-3,digits=1))*\" [kJ/kg]\", subplot=2)\n",
    "hline!([uf[3]*1e3], label=\"SS, \"*string(round(uf[3]*1e3,digits=2))*\" [g/kg]\", subplot=3)\n",
    "title!(\"fixed SST @ \"*string(newCO2)*\" (ppm)\", subplot=1)\n",
    "xaxis!(\"t (days)\", subplot=3)\n",
    "mkpath(replace(path, \"output\" => \"figures\"))\n",
    "savefig(replace(path, \"output\" => \"figures\")*\"co2_upstep_fixSST_\"*string(Int(newCO2))*\".png\")"
   ]
  },
  {
   "cell_type": "code",
   "execution_count": 24,
   "metadata": {},
   "outputs": [
    {
     "name": "stdout",
     "output_type": "stream",
     "text": [
      "[914.0844994859599, 312455.74758193997, 0.008769258507783524, 290.0]\n",
      "[-8.660179815163548e-10, 5.428217316186829e-8, 6.916097854286773e-11, 0.0]\n"
     ]
    },
    {
     "name": "stderr",
     "output_type": "stream",
     "text": [
      "\u001b[32mODE   0%|                                               |  ETA: N/A\u001b[39m\n",
      "\u001b[32mODE  21%|█████████▊                                     |  ETA: 0:00:04\u001b[39m\n",
      "\u001b[32mODE  42%|███████████████████▋                           |  ETA: 0:00:03\u001b[39m\n",
      "\u001b[32mODE  62%|█████████████████████████████▍                 |  ETA: 0:00:02\u001b[39m\n",
      "\u001b[32mODE  83%|███████████████████████████████████████▏       |  ETA: 0:00:01\u001b[39m\n"
     ]
    },
    {
     "name": "stdout",
     "output_type": "stream",
     "text": [
      "  4.846668 seconds (35.75 M allocations: 1.090 GiB, 2.39% gc time)\n",
      "Success\n",
      "[1070.9056008487928, 317941.42375252757,"
     ]
    },
    {
     "name": "stderr",
     "output_type": "stream",
     "text": [
      "\u001b[90mODE 100%|███████████████████████████████████████████████| Time: 0:00:04\u001b[39m\n"
     ]
    },
    {
     "name": "stdout",
     "output_type": "stream",
     "text": [
      " 0.00961182536250876, 292.9164637277062]\n",
      "[6.132763478663549e-8, 2.5775426407372995e-9, 1.0536994537711904e-8, 1.0012844173540741e-9]\n",
      "euler\n"
     ]
    },
    {
     "name": "stderr",
     "output_type": "stream",
     "text": [
      "\u001b[32mODE   0%|                                               |  ETA: N/A\u001b[39m\n",
      "\u001b[32mODE  62%|█████████████████████████████▍                 |  ETA: 0:00:02\u001b[39m\n"
     ]
    },
    {
     "name": "stdout",
     "output_type": "stream",
     "text": [
      "  4.934900 seconds (36.45 M allocations: 1.111 GiB, 2.32% gc time)\n",
      "[1070.9056008487928, 317941.42375252757, 0.00961182536250876, 292.9164637277062]\n"
     ]
    },
    {
     "name": "stderr",
     "output_type": "stream",
     "text": [
      "\u001b[90mODE 100%|███████████████████████████████████████████████| Time: 0:00:04\u001b[39m\n",
      "\u001b[33m\u001b[1m┌ \u001b[22m\u001b[39m\u001b[33m\u001b[1mWarning: \u001b[22m\u001b[39mSkipped marker arg o-.\n",
      "\u001b[33m\u001b[1m└ \u001b[22m\u001b[39m\u001b[90m@ Plots /Users/claresinger/.julia/packages/Plots/HcxwM/src/args.jl:1178\u001b[39m\n"
     ]
    }
   ],
   "source": [
    "include(\"mlm_solve_funcs.jl\")\n",
    "\n",
    "# set co2\n",
    "newCO2 = 600.0\n",
    "\n",
    "# load initial condition from file\n",
    "path = \"./output/bflux_timeevolve/\";\n",
    "output = load(path*\"co2_400.jld2\");\n",
    "u0 = output[\"uf\"];\n",
    "OHU = output[\"OHU\"];\n",
    "println(u0);\n",
    "mlm(du, u0, par, 0.0);\n",
    "println(du ./ u0);\n",
    "\n",
    "# set OHU, let SST evolve and check cloud changes\n",
    "par.CO2 = newCO2;\n",
    "par.Hw = 1;\n",
    "par.OHU = OHU;\n",
    "par.stype = varSST();\n",
    "u0, sol = run_mlm_from_init(u0, par);\n",
    "\n",
    "# get output\n",
    "code = sol.retcode;\n",
    "uf = sol.u[end];\n",
    "du = zeros(4);\n",
    "mlm(du, uf, par, 0.0);\n",
    "zi,hM,qM,SST = uf;\n",
    "zb = calc_LCL(zi,hM,qM);\n",
    "println(code);\n",
    "println(uf);\n",
    "println(du ./ uf);\n",
    "\n",
    "# save to file\n",
    "output = Dict(\"code\" => code, \"p\" => par, \"u0\" => u0, \"uf\" => uf, \"du/u\" => du./uf, \n",
    "\"we\" => we(uf,par,par.etype), \"zb\" => zb, \"zc\" => zi-zb,\n",
    "\"RHsurf\" => RH(0.0, hM, qM), \"LHF\" => calc_LHF(uf,par), \"SHF\" => calc_SHF(uf,par),\n",
    "\"ΔR\" => calc_cloudtop_RAD(uf,par,par.rtype), \"OHU\" => calc_OHU(uf,par,par.stype))\n",
    "save(path*\"co2_upstep_\"*string(Int(newCO2))*\".jld2\", output)\n",
    "\n",
    "# run steady-state\n",
    "u0, solss = run_mlm_ss_from_init(u0, par);\n",
    "uf = solss.u;\n",
    "println(uf);\n",
    "\n",
    "# plot\n",
    "t = sol.t / 3600.0 / 24.0\n",
    "zi = getindex.(sol.u,1)\n",
    "hM = getindex.(sol.u,2) * 1e-3\n",
    "qtM = getindex.(sol.u,3) * 1e3\n",
    "plot(t, [zi, hM, qtM], marker=\"o-\", label=[\"zi(t) [m]\" \"hM(t) [kJ/kg]\" \"qtM(t) [g/kg]\"], legend=:top, layout=(3,1))\n",
    "hline!([uf[1]], label=\"SS, \"*string(round(uf[1],digits=1))*\" [m]\", subplot=1)\n",
    "hline!([uf[2]*1e-3], label=\"SS, \"*string(round(uf[2]*1e-3,digits=1))*\" [kJ/kg]\", subplot=2)\n",
    "hline!([uf[3]*1e3], label=\"SS, \"*string(round(uf[3]*1e3,digits=2))*\" [g/kg]\", subplot=3)\n",
    "title!(\"slab-ocean @ \"*string(newCO2)*\" (ppm)\", subplot=1)\n",
    "xaxis!(\"t (days)\", subplot=3)\n",
    "mkpath(replace(path, \"output\" => \"figures\"))\n",
    "savefig(replace(path, \"output\" => \"figures\")*\"co2_upstep_\"*string(Int(newCO2))*\".png\")"
   ]
  },
  {
   "cell_type": "code",
   "execution_count": null,
   "metadata": {},
   "outputs": [],
   "source": []
  }
 ],
 "metadata": {
  "kernelspec": {
   "display_name": "Julia 1.6.2",
   "language": "julia",
   "name": "julia-1.6"
  },
  "language_info": {
   "file_extension": ".jl",
   "mimetype": "application/julia",
   "name": "julia",
   "version": "1.6.2"
  }
 },
 "nbformat": 4,
 "nbformat_minor": 4
}
