{
 "cells": [
  {
   "cell_type": "code",
   "execution_count": 3,
   "metadata": {},
   "outputs": [],
   "source": [
    "using MixedLayerModel\n",
    "using FileIO"
   ]
  },
  {
   "cell_type": "code",
   "execution_count": 6,
   "metadata": {},
   "outputs": [
    {
     "name": "stdout",
     "output_type": "stream",
     "text": [
      "Success\n",
      "[1150.920076973418, 312618.51064756373, 0.007981982898737713, 290.0]\n"
     ]
    }
   ],
   "source": [
    "# set-up basic 400 ppm simulation\n",
    "par = basic_params();\n",
    "par.rtype = varRad();\n",
    "par.etype = Sally();\n",
    "par.a = 1.1;\n",
    "path = \"./output/Sally1.1/\";\n",
    "\n",
    "# run to steady-state\n",
    "u0, sol = run_mlm(par);\n",
    "\n",
    "# get output\n",
    "code = sol.retcode;\n",
    "println(code);\n",
    "uf = sol.u;\n",
    "du = zeros(4);\n",
    "mlm(du, uf, par, 0.0);\n",
    "zi,hM,qM,SST = uf;\n",
    "println(uf);\n",
    "zb = calc_LCL(zi,hM,qM);\n",
    "\n",
    "# save to file\n",
    "output = Dict(\"code\" => code, \"p\"=>par, \"u0\" => u0, \"uf\" => uf, \"du/u\" => du./uf, \n",
    "\"we\" => we(uf,par,par.etype), \"zb\" => zb, \"zc\" => zi-zb,\n",
    "\"RHsurf\" => RH(0.0, hM, qM), \"LHF\" => calc_LHF(uf,par), \"SHF\" => calc_SHF(uf,par),\n",
    "\"ΔR\" => calc_cloudtop_RAD(uf,par,par.rtype), \"OHU\" => calc_OHU(uf,par,par.stype))\n",
    "save(path*\"co2_400.jld2\", output)"
   ]
  },
  {
   "cell_type": "code",
   "execution_count": 10,
   "metadata": {},
   "outputs": [
    {
     "name": "stdout",
     "output_type": "stream",
     "text": [
      "Success\n"
     ]
    }
   ],
   "source": [
    "##########\n",
    "# increase CO2 but fix SST\n",
    "##########\n",
    "\n",
    "# set co2\n",
    "newCO2 = 600.0\n",
    "\n",
    "# load initial condition from file\n",
    "path = \"./output/Sally1.1/\";\n",
    "output = load(path*\"co2_400.jld2\");\n",
    "u0 = output[\"uf\"];\n",
    "OHU = output[\"OHU\"];\n",
    "\n",
    "# increase CO2, let SST evolve and check cloud changes\n",
    "par.CO2 = newCO2;\n",
    "u0, sol = run_mlm_from_init(u0, par);\n",
    "\n",
    "# get output\n",
    "code = sol.retcode;\n",
    "println(code);\n",
    "uf = sol.u;\n",
    "du = zeros(4);\n",
    "mlm(du, uf, par, 0.0);\n",
    "zi,hM,qM,SST = uf;\n",
    "zb = calc_LCL(zi,hM,qM);\n",
    "\n",
    "# save to file\n",
    "output = Dict(\"code\" => code, \"p\" => par, \"u0\" => u0, \"uf\" => uf, \"du/u\" => du./uf, \n",
    "\"we\" => we(uf,par,par.etype), \"zb\" => zb, \"zc\" => zi-zb,\n",
    "\"RHsurf\" => RH(0.0, hM, qM), \"LHF\" => calc_LHF(uf,par), \"SHF\" => calc_SHF(uf,par),\n",
    "\"ΔR\" => calc_cloudtop_RAD(uf,par,par.rtype), \"OHU\" => calc_OHU(uf,par,par.stype))\n",
    "save(path*\"co2_upstep_fixSST_\"*string(Int(newCO2))*\".jld2\", output)"
   ]
  },
  {
   "cell_type": "code",
   "execution_count": null,
   "metadata": {},
   "outputs": [],
   "source": [
    "##########\n",
    "# increase CO2 and let SST evolve\n",
    "##########\n",
    "\n",
    "# load initial condition from file\n",
    "output = load(path*\"co2_400.jld2\");\n",
    "u0 = output[\"uf\"];\n",
    "OHU = output[\"OHU\"];\n",
    "\n",
    "# set OHU, let SST evolve and check cloud changes\n",
    "newCO2 = 600.0;\n",
    "par.CO2 = newCO2;\n",
    "par.Hw = 10;\n",
    "par.OHU = OHU;\n",
    "par.stype = varSST();\n",
    "u0, sol = run_mlm_from_init(u0, par);\n",
    "\n",
    "# get output\n",
    "code = sol.retcode;\n",
    "println(code);\n",
    "uf = sol.u;\n",
    "du = zeros(4);\n",
    "mlm(du, uf, par, 0.0);\n",
    "zi,hM,qM,SST = uf;\n",
    "zb = calc_LCL(zi,hM,qM);\n",
    "\n",
    "# save to file\n",
    "output = Dict(\"code\" => code, \"p\" => par, \"u0\" => u0, \"uf\" => uf, \"du/u\" => du./uf, \n",
    "\"we\" => we(uf,par,par.etype), \"zb\" => zb, \"zc\" => zi-zb,\n",
    "\"RHsurf\" => RH(0.0, hM, qM), \"LHF\" => calc_LHF(uf,par), \"SHF\" => calc_SHF(uf,par),\n",
    "\"ΔR\" => calc_cloudtop_RAD(uf,par,par.rtype), \"OHU\" => calc_OHU(uf,par,par.stype))\n",
    "save(path*\"co2_upstep_\"*string(Int(newCO2))*\".jld2\", output)"
   ]
  },
  {
   "cell_type": "code",
   "execution_count": null,
   "metadata": {},
   "outputs": [],
   "source": []
  }
 ],
 "metadata": {
  "kernelspec": {
   "display_name": "Julia 1.5.2",
   "language": "julia",
   "name": "julia-1.5"
  },
  "language_info": {
   "file_extension": ".jl",
   "mimetype": "application/julia",
   "name": "julia",
   "version": "1.5.2"
  }
 },
 "nbformat": 4,
 "nbformat_minor": 4
}
