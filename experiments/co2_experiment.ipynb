{
 "cells": [
  {
   "cell_type": "code",
   "execution_count": 1,
   "metadata": {},
   "outputs": [],
   "source": [
    "using MixedLayerModel\n",
    "using FileIO\n",
    "using DifferentialEquations\n",
    "using Sundials\n",
    "using Revise\n",
    "using Plots\n",
    "\n",
    "using Logging: global_logger\n",
    "using TerminalLoggers: TerminalLogger\n",
    "global_logger(TerminalLogger());"
   ]
  },
  {
   "cell_type": "code",
   "execution_count": 12,
   "metadata": {},
   "outputs": [
    {
     "name": "stderr",
     "output_type": "stream",
     "text": [
      "\u001b[32mODE   0%|                                               |  ETA: N/A\u001b[39m\n",
      "\u001b[32mODE  21%|█████████▊                                     |  ETA: 0:00:06\u001b[39m\n",
      "\u001b[32mODE  42%|███████████████████▋                           |  ETA: 0:00:03\u001b[39m\n",
      "\u001b[32mODE  62%|█████████████████████████████▍                 |  ETA: 0:00:02\u001b[39m\n",
      "\u001b[32mODE  83%|███████████████████████████████████████▏       |  ETA: 0:00:01\u001b[39m\n"
     ]
    },
    {
     "name": "stdout",
     "output_type": "stream",
     "text": [
      "  6.913291 seconds (33.46 M allocations: 1.274 GiB, 2.37% gc time, 41.70% compilation time)\n"
     ]
    },
    {
     "name": "stderr",
     "output_type": "stream",
     "text": [
      "\u001b[90mODE 100%|███████████████████████████████████████████████| Time: 0:00:04\u001b[39m\n"
     ]
    },
    {
     "name": "stdout",
     "output_type": "stream",
     "text": [
      "Success\n",
      "[914.0844994859599, 312455.74758193997, 0.008769258507783524, 290.0]\n",
      "[-8.660179815163548e-10, -2.6027569727870523e-12, 6.916097854286773e-11, 0.0]\n",
      "euler, dt=4 hrs\n"
     ]
    },
    {
     "name": "stderr",
     "output_type": "stream",
     "text": [
      "\u001b[32mODE   0%|                                               |  ETA: N/A\u001b[39m\n",
      "\u001b[32mODE  62%|█████████████████████████████▍                 |  ETA: 0:00:02\u001b[39m\n",
      "\u001b[90mODE 100%|███████████████████████████████████████████████| Time: 0:00:04\u001b[39m\n"
     ]
    },
    {
     "name": "stdout",
     "output_type": "stream",
     "text": [
      " 12.208718 seconds (50.64 M allocations: 2.854 GiB, 3.13% gc time, 65.57% compilation time)\n",
      "[914.0844994859599, 312455.74758193997, 0.008769258507783524, 290.0]\n"
     ]
    },
    {
     "name": "stderr",
     "output_type": "stream",
     "text": [
      "\u001b[33m\u001b[1m┌ \u001b[22m\u001b[39m\u001b[33m\u001b[1mWarning: \u001b[22m\u001b[39mSkipped marker arg o-.\n",
      "\u001b[33m\u001b[1m└ \u001b[22m\u001b[39m\u001b[90m@ Plots /Users/claresinger/.julia/packages/Plots/HcxwM/src/args.jl:1178\u001b[39m\n"
     ]
    }
   ],
   "source": [
    "include(\"mlm_solve_funcs.jl\")\n",
    "\n",
    "# set-up basic 400 ppm simulation\n",
    "par = basic_params();\n",
    "par.etype = bflux();\n",
    "path = \"./output/bflux_timeevolve/\";\n",
    "\n",
    "# run to steady-state\n",
    "u0, sol = run_mlm(par);\n",
    "\n",
    "# get output\n",
    "code = sol.retcode;\n",
    "uf = sol.u[end];\n",
    "du = zeros(4);\n",
    "mlm(du, uf, par, 0.0);\n",
    "zi,hM,qM,SST = uf;\n",
    "zb = calc_LCL(zi,hM,qM);\n",
    "println(code);\n",
    "println(uf);\n",
    "println(du ./ uf);\n",
    "\n",
    "# save to file\n",
    "output = Dict(\"code\" => code, \"p\"=>par, \"u0\" => u0, \"uf\" => uf, \"du/u\" => du./uf, \n",
    "\"we\" => we(uf,par,par.etype), \"zb\" => zb, \"zc\" => zi-zb,\n",
    "\"RHsurf\" => RH(0.0, hM, qM), \"LHF\" => calc_LHF(uf,par), \"SHF\" => calc_SHF(uf,par),\n",
    "\"ΔR\" => calc_cloudtop_RAD(uf,par,par.rtype), \"OHU\" => calc_OHU(uf,par,par.stype));\n",
    "save(path*\"co2_400.jld2\", output)\n",
    "\n",
    "# run steady-state\n",
    "u0, solss = run_mlm_ss(par);\n",
    "uf = solss.u;\n",
    "println(uf);\n",
    "# plot\n",
    "t = sol.t / 3600.0 / 24.0\n",
    "zi = getindex.(sol.u,1)\n",
    "hM = getindex.(sol.u,2) * 1e-3\n",
    "qtM = getindex.(sol.u,3) * 1e3\n",
    "plot(t, [zi, hM, qtM], marker=\"o-\", label=[\"zi(t) [m]\" \"hM(t) [kJ/kg]\" \"qtM(t) [g/kg]\"], legend=:top, layout=(3,1))\n",
    "hline!([uf[1]], label=\"SS, \"*string(round(uf[1],digits=1))*\" [m]\", subplot=1)\n",
    "hline!([uf[2]*1e-3], label=\"SS, \"*string(round(uf[2]*1e-3,digits=1))*\" [kJ/kg]\", subplot=2)\n",
    "hline!([uf[3]*1e3], label=\"SS, \"*string(round(uf[3]*1e3,digits=2))*\" [g/kg]\", subplot=3)\n",
    "title!(\"400 (ppm)\", subplot=1)\n",
    "xaxis!(\"t (days)\", subplot=3)\n",
    "mkpath(replace(path, \"output\" => \"figures\"))\n",
    "savefig(replace(path, \"output\" => \"figures\")*\"co2_400.png\")"
   ]
  },
  {
   "cell_type": "code",
   "execution_count": 13,
   "metadata": {},
   "outputs": [
    {
     "name": "stdout",
     "output_type": "stream",
     "text": [
      "[914.0844994859599, 312455.74758193997, 0.008769258507783524, 290.0]\n",
      "[1.1839986372918933e-6, -1.121257643929456e-7, -2.259694579743309e-6, 0.0]\n"
     ]
    },
    {
     "name": "stderr",
     "output_type": "stream",
     "text": [
      "\u001b[32mODE   0%|                                               |  ETA: N/A\u001b[39m\n",
      "\u001b[32mODE   6%|██▋                                            |  ETA: 0:00:11\u001b[39m\n",
      "\u001b[32mODE  11%|█████▎                                         |  ETA: 0:00:09\u001b[39m\n",
      "\u001b[32mODE  17%|███████▉                                       |  ETA: 0:00:08\u001b[39m\n",
      "\u001b[32mODE  22%|██████████▌                                    |  ETA: 0:00:08\u001b[39m\n",
      "\u001b[32mODE  28%|█████████████                                  |  ETA: 0:00:07\u001b[39m\n",
      "\u001b[32mODE  33%|███████████████▋                               |  ETA: 0:00:06\u001b[39m\n",
      "\u001b[32mODE  39%|██████████████████▎                            |  ETA: 0:00:06\u001b[39m\n",
      "\u001b[32mODE  44%|████████████████████▉                          |  ETA: 0:00:05\u001b[39m\n",
      "\u001b[32mODE  50%|███████████████████████▌                       |  ETA: 0:00:05\u001b[39m\n",
      "\u001b[32mODE  56%|██████████████████████████▏                    |  ETA: 0:00:04\u001b[39m\n",
      "\u001b[32mODE  61%|████████████████████████████▊                  |  ETA: 0:00:04\u001b[39m\n",
      "\u001b[32mODE  67%|███████████████████████████████▍               |  ETA: 0:00:03\u001b[39m\n",
      "\u001b[32mODE  72%|██████████████████████████████████             |  ETA: 0:00:03\u001b[39m\n",
      "\u001b[32mODE  78%|████████████████████████████████████▌          |  ETA: 0:00:02\u001b[39m\n",
      "\u001b[32mODE  83%|███████████████████████████████████████▏       |  ETA: 0:00:02\u001b[39m\n",
      "\u001b[32mODE  89%|█████████████████████████████████████████▊     |  ETA: 0:00:01\u001b[39m\n",
      "\u001b[32mODE  94%|████████████████████████████████████████████▍  |  ETA: 0:00:00\u001b[39m\n"
     ]
    },
    {
     "name": "stdout",
     "output_type": "stream",
     "text": [
      "  8.963279 seconds (67.10 M allocations: 2.043 GiB, 2.61% gc time)\n",
      "Success\n",
      "[627.6912200912502, 315410.82034858613, 0.009745472658789708, 290.0]\n",
      "[-1.5060027939684273e-10, -5.205543191028687e-13, 5.199211878090548e-12, 0.0]\n",
      "euler"
     ]
    },
    {
     "name": "stderr",
     "output_type": "stream",
     "text": [
      "\u001b[32mODE 100%|███████████████████████████████████████████████| Time: 0:00:08\u001b[39m\n",
      "\u001b[90mODE 100%|███████████████████████████████████████████████| Time: 0:00:08\u001b[39m\n"
     ]
    },
    {
     "name": "stdout",
     "output_type": "stream",
     "text": [
      "\n"
     ]
    },
    {
     "name": "stderr",
     "output_type": "stream",
     "text": [
      "\u001b[32mODE   0%|                                               |  ETA: N/A\u001b[39m\n",
      "\u001b[32mODE  17%|███████▉                                       |  ETA: 0:00:08\u001b[39m\n",
      "\u001b[32mODE  33%|███████████████▋                               |  ETA: 0:00:06\u001b[39m\n",
      "\u001b[32mODE  50%|███████████████████████▌                       |  ETA: 0:00:05\u001b[39m\n",
      "\u001b[32mODE  67%|███████████████████████████████▍               |  ETA: 0:00:03\u001b[39m\n"
     ]
    },
    {
     "name": "stdout",
     "output_type": "stream",
     "text": [
      "  7.438923 seconds (55.49 M allocations: 1.690 GiB, 2.47% gc time)\n",
      "[627.7576769687556, 315410.9348021278, 0.009745436727772004, 290.0]\n"
     ]
    },
    {
     "name": "stderr",
     "output_type": "stream",
     "text": [
      "\u001b[90mODE 100%|███████████████████████████████████████████████| Time: 0:00:07\u001b[39m\n",
      "\u001b[33m\u001b[1m┌ \u001b[22m\u001b[39m\u001b[33m\u001b[1mWarning: \u001b[22m\u001b[39mSkipped marker arg o-.\n",
      "\u001b[33m\u001b[1m└ \u001b[22m\u001b[39m\u001b[90m@ Plots /Users/claresinger/.julia/packages/Plots/HcxwM/src/args.jl:1178\u001b[39m\n"
     ]
    }
   ],
   "source": [
    "include(\"mlm_solve_funcs.jl\")\n",
    "\n",
    "# set co2\n",
    "newCO2 = 1200.0\n",
    "\n",
    "# load initial condition from file\n",
    "par = basic_params();\n",
    "par.etype = bflux();\n",
    "path = \"./output/bflux_timeevolve/\";\n",
    "output = load(path*\"co2_400.jld2\");\n",
    "u0 = output[\"uf\"];\n",
    "du = zeros(4);\n",
    "mlm(du, u0, par, 0.0);\n",
    "println(u0);\n",
    "println(du ./ u0);\n",
    "\n",
    "# increase CO2, let SST evolve and check cloud changes\n",
    "par.CO2 = newCO2;\n",
    "u0, sol = run_mlm_from_init(u0, par, dt=3600.0*2.0, tspan=(0.0,3600.0*24.0*15.0));\n",
    "\n",
    "# get output\n",
    "code = sol.retcode;\n",
    "uf = sol.u[end];\n",
    "du = zeros(4);\n",
    "mlm(du, uf, par, 0.0);\n",
    "zi,hM,qM,SST = uf;\n",
    "zb = calc_LCL(zi,hM,qM);\n",
    "println(code);\n",
    "println(uf);\n",
    "println(du ./ uf);\n",
    "\n",
    "# save to file\n",
    "output = Dict(\"code\" => code, \"p\" => par, \"u0\" => u0, \"uf\" => uf, \"du/u\" => du./uf, \n",
    "\"we\" => we(uf,par,par.etype), \"zb\" => zb, \"zc\" => zi-zb,\n",
    "\"RHsurf\" => RH(0.0, hM, qM), \"LHF\" => calc_LHF(uf,par), \"SHF\" => calc_SHF(uf,par),\n",
    "\"ΔR\" => calc_cloudtop_RAD(uf,par,par.rtype), \"OHU\" => calc_OHU(uf,par,par.stype))\n",
    "save(path*\"co2_upstep_fixSST_\"*string(Int(newCO2))*\".jld2\", output)\n",
    "\n",
    "# run steady-state\n",
    "u0, solss = run_mlm_ss_from_init(u0, par, dt=3600.0*2.0, tspan=3600.0*24.0*15.0);\n",
    "uf = solss.u;\n",
    "println(uf);\n",
    "\n",
    "# plot\n",
    "t = sol.t / 3600.0 / 24.0\n",
    "zi = getindex.(sol.u,1)\n",
    "hM = getindex.(sol.u,2) * 1e-3\n",
    "qtM = getindex.(sol.u,3) * 1e3\n",
    "plot(t, [zi, hM, qtM], marker=\"o-\", \n",
    "    label=[\"zi(t) [m]\" \"hM(t) [kJ/kg]\" \"qtM(t) [g/kg]\"], legend=:top, layout=(3,1))\n",
    "hline!([uf[1]], label=\"SS, \"*string(round(uf[1],digits=1))*\" [m]\", subplot=1)\n",
    "hline!([uf[2]*1e-3], label=\"SS, \"*string(round(uf[2]*1e-3,digits=1))*\" [kJ/kg]\", subplot=2)\n",
    "hline!([uf[3]*1e3], label=\"SS, \"*string(round(uf[3]*1e3,digits=2))*\" [g/kg]\", subplot=3)\n",
    "title!(\"fixed SST @ \"*string(newCO2)*\" (ppm)\", subplot=1)\n",
    "xaxis!(\"t (days)\", subplot=3)\n",
    "mkpath(replace(path, \"output\" => \"figures\"))\n",
    "savefig(replace(path, \"output\" => \"figures\")*\"co2_upstep_fixSST_\"*string(Int(newCO2))*\".png\")"
   ]
  },
  {
   "cell_type": "code",
   "execution_count": 3,
   "metadata": {},
   "outputs": [
    {
     "name": "stdout",
     "output_type": "stream",
     "text": [
      "[914.0844994859599, 312455.74758193997, 0.008769258507783524, 290.0]\n",
      "[1.1839986372918933e-6, -1.121257643929456e-7, -2.259694579743309e-6, 0.0]\n"
     ]
    },
    {
     "name": "stderr",
     "output_type": "stream",
     "text": [
      "\u001b[32mODE   0%|                                               |  ETA: N/A\u001b[39m\n",
      "\u001b[32mODE   2%|█                                              |  ETA: 0:05:52\u001b[39m\n",
      "\u001b[32mODE   4%|██                                             |  ETA: 0:05:13\u001b[39m\n",
      "\u001b[32mODE   6%|███                                            |  ETA: 0:04:49\u001b[39m\n",
      "\u001b[32mODE   8%|███▉                                           |  ETA: 0:04:34\u001b[39m\n",
      "\u001b[32mODE  10%|████▉                                          |  ETA: 0:04:20\u001b[39m\n",
      "\u001b[32mODE  12%|█████▉                                         |  ETA: 0:04:08\u001b[39m\n",
      "\u001b[32mODE  15%|██████▉                                        |  ETA: 0:03:56\u001b[39m\n",
      "\u001b[32mODE  17%|███████▉                                       |  ETA: 0:03:47\u001b[39m\n",
      "\u001b[32mODE  19%|████████▊                                      |  ETA: 0:03:37\u001b[39m\n",
      "\u001b[32mODE  21%|█████████▊                                     |  ETA: 0:03:28\u001b[39m\n",
      "\u001b[32mODE  23%|██████████▊                                    |  ETA: 0:03:19\u001b[39m\n",
      "\u001b[32mODE  25%|███████████▊                                   |  ETA: 0:03:11\u001b[39m\n",
      "\u001b[32mODE  27%|████████████▊                                  |  ETA: 0:03:02\u001b[39m\n",
      "\u001b[32mODE  29%|█████████████▊                                 |  ETA: 0:02:46\u001b[39m\n",
      "\u001b[32mODE  31%|██████████████▊                                |  ETA: 0:02:31\u001b[39m\n",
      "\u001b[32mODE  33%|███████████████▋                               |  ETA: 0:02:18\u001b[39m\n",
      "\u001b[32mODE  35%|████████████████▋                              |  ETA: 0:02:06\u001b[39m\n",
      "\u001b[32mODE  38%|█████████████████▋                             |  ETA: 0:01:55\u001b[39m\n",
      "\u001b[32mODE  40%|██████████████████▋                            |  ETA: 0:01:46\u001b[39m\n",
      "\u001b[32mODE  42%|███████████████████▋                           |  ETA: 0:01:37\u001b[39m\n",
      "\u001b[32mODE  44%|████████████████████▌                          |  ETA: 0:01:30\u001b[39m\n",
      "\u001b[32mODE  46%|█████████████████████▌                         |  ETA: 0:01:23\u001b[39m\n",
      "\u001b[32mODE  48%|██████████████████████▌                        |  ETA: 0:01:16\u001b[39m\n",
      "\u001b[32mODE  50%|███████████████████████▌                       |  ETA: 0:01:10\u001b[39m\n",
      "\u001b[32mODE  52%|████████████████████████▌                      |  ETA: 0:01:05\u001b[39m\n",
      "\u001b[32mODE  54%|█████████████████████████▌                     |  ETA: 0:01:00\u001b[39m\n",
      "\u001b[32mODE  56%|██████████████████████████▌                    |  ETA: 0:00:55\u001b[39m\n",
      "\u001b[32mODE  58%|███████████████████████████▍                   |  ETA: 0:00:51\u001b[39m\n",
      "\u001b[32mODE  60%|████████████████████████████▍                  |  ETA: 0:00:47\u001b[39m\n",
      "\u001b[32mODE  62%|█████████████████████████████▍                 |  ETA: 0:00:43\u001b[39m\n",
      "\u001b[32mODE  65%|██████████████████████████████▍                |  ETA: 0:00:40\u001b[39m\n",
      "\u001b[32mODE  67%|███████████████████████████████▍               |  ETA: 0:00:36\u001b[39m\n",
      "\u001b[32mODE  69%|████████████████████████████████▎              |  ETA: 0:00:33\u001b[39m\n",
      "\u001b[32mODE  71%|█████████████████████████████████▎             |  ETA: 0:00:30\u001b[39m\n",
      "\u001b[32mODE  73%|██████████████████████████████████▎            |  ETA: 0:00:27\u001b[39m\n",
      "\u001b[32mODE  75%|███████████████████████████████████▎           |  ETA: 0:00:25\u001b[39m\n",
      "\u001b[32mODE  77%|████████████████████████████████████▎          |  ETA: 0:00:22\u001b[39m\n",
      "\u001b[32mODE  79%|█████████████████████████████████████▎         |  ETA: 0:00:20\u001b[39m\n",
      "\u001b[32mODE  81%|██████████████████████████████████████▎        |  ETA: 0:00:17\u001b[39m\n",
      "\u001b[32mODE  83%|███████████████████████████████████████▏       |  ETA: 0:00:15\u001b[39m\n",
      "\u001b[32mODE  85%|████████████████████████████████████████▏      |  ETA: 0:00:13\u001b[39m\n",
      "\u001b[32mODE  88%|█████████████████████████████████████████▏     |  ETA: 0:00:11\u001b[39m\n",
      "\u001b[32mODE  90%|██████████████████████████████████████████▏    |  ETA: 0:00:09\u001b[39m\n",
      "\u001b[32mODE  92%|███████████████████████████████████████████▏   |  ETA: 0:00:07\u001b[39m\n",
      "\u001b[32mODE  94%|████████████████████████████████████████████   |  ETA: 0:00:05\u001b[39m\n",
      "\u001b[32mODE  96%|█████████████████████████████████████████████  |  ETA: 0:00:03\u001b[39m\n",
      "\u001b[32mODE  98%|██████████████████████████████████████████████ |  ETA: 0:00:02\u001b[39m\n",
      "\u001b[32mODE 100%|███████████████████████████████████████████████| Time: 0:01:16\u001b[39m\n"
     ]
    },
    {
     "name": "stdout",
     "output_type": "stream",
     "text": [
      " 78.904588 seconds (457.57 M allocations: 14.133 GiB, 1.99% gc time, 3.28% compilation time)\n",
      "Success\n",
      "[308.81739933127403, 687107.106657062, 0.130694473172715, 332.7862285876953]\n",
      "[-1.3624157047880416e-6, 1.2778397550783975e-6, 2.5435448163686336e-6, 1.0601548073321662e-7]\n",
      "euler"
     ]
    },
    {
     "name": "stderr",
     "output_type": "stream",
     "text": [
      "\u001b[90mODE 100%|███████████████████████████████████████████████| Time: 0:01:16\u001b[39m\n"
     ]
    },
    {
     "name": "stdout",
     "output_type": "stream",
     "text": [
      "\n"
     ]
    },
    {
     "name": "stderr",
     "output_type": "stream",
     "text": [
      "\u001b[32mODE   0%|                                               |  ETA: N/A\u001b[39m\n",
      "\u001b[32mODE   2%|█                                              |  ETA: 0:05:33\u001b[39m\n",
      "\u001b[32mODE   4%|██                                             |  ETA: 0:05:08\u001b[39m\n",
      "\u001b[32mODE   6%|███                                            |  ETA: 0:04:50\u001b[39m\n",
      "\u001b[32mODE   8%|███▉                                           |  ETA: 0:04:36\u001b[39m\n",
      "\u001b[32mODE  10%|████▉                                          |  ETA: 0:04:23\u001b[39m\n",
      "\u001b[32mODE  12%|█████▉                                         |  ETA: 0:04:11\u001b[39m\n",
      "\u001b[32mODE  15%|██████▉                                        |  ETA: 0:03:59\u001b[39m\n",
      "\u001b[32mODE  17%|███████▉                                       |  ETA: 0:03:49\u001b[39m\n",
      "\u001b[32mODE  19%|████████▊                                      |  ETA: 0:03:39\u001b[39m\n",
      "\u001b[32mODE  21%|█████████▊                                     |  ETA: 0:03:30\u001b[39m\n",
      "\u001b[32mODE  23%|██████████▊                                    |  ETA: 0:03:21\u001b[39m\n",
      "\u001b[32mODE  25%|███████████▊                                   |  ETA: 0:03:12\u001b[39m\n",
      "\u001b[32mODE  27%|████████████▊                                  |  ETA: 0:03:04\u001b[39m\n",
      "\u001b[32mODE  29%|█████████████▊                                 |  ETA: 0:02:48\u001b[39m\n",
      "\u001b[32mODE  31%|██████████████▊                                |  ETA: 0:02:33\u001b[39m\n",
      "\u001b[32mODE  33%|███████████████▋                               |  ETA: 0:02:19\u001b[39m\n",
      "\u001b[32mODE  35%|████████████████▋                              |  ETA: 0:02:07\u001b[39m\n",
      "\u001b[32mODE  38%|█████████████████▋                             |  ETA: 0:01:57\u001b[39m\n",
      "\u001b[32mODE  40%|██████████████████▋                            |  ETA: 0:01:47\u001b[39m\n",
      "\u001b[32mODE  42%|███████████████████▋                           |  ETA: 0:01:39\u001b[39m\n",
      "\u001b[32mODE  44%|████████████████████▌                          |  ETA: 0:01:31\u001b[39m\n",
      "\u001b[32mODE  46%|█████████████████████▌                         |  ETA: 0:01:24\u001b[39m\n",
      "\u001b[32mODE  48%|██████████████████████▌                        |  ETA: 0:01:17\u001b[39m\n",
      "\u001b[32mODE  50%|███████████████████████▌                       |  ETA: 0:01:11\u001b[39m\n",
      "\u001b[32mODE  52%|████████████████████████▌                      |  ETA: 0:01:06\u001b[39m\n",
      "\u001b[32mODE  54%|█████████████████████████▌                     |  ETA: 0:01:01\u001b[39m\n",
      "\u001b[32mODE  56%|██████████████████████████▌                    |  ETA: 0:00:56\u001b[39m\n",
      "\u001b[32mODE  58%|███████████████████████████▍                   |  ETA: 0:00:52\u001b[39m\n",
      "\u001b[32mODE  60%|████████████████████████████▍                  |  ETA: 0:00:48\u001b[39m\n",
      "\u001b[32mODE  62%|█████████████████████████████▍                 |  ETA: 0:00:44\u001b[39m\n",
      "\u001b[32mODE  65%|██████████████████████████████▍                |  ETA: 0:00:40\u001b[39m\n",
      "\u001b[32mODE  67%|███████████████████████████████▍               |  ETA: 0:00:37\u001b[39m\n",
      "\u001b[32mODE  69%|████████████████████████████████▎              |  ETA: 0:00:34\u001b[39m\n",
      "\u001b[32mODE  71%|█████████████████████████████████▎             |  ETA: 0:00:31\u001b[39m\n",
      "\u001b[32mODE  73%|██████████████████████████████████▎            |  ETA: 0:00:28\u001b[39m\n",
      "\u001b[32mODE  75%|███████████████████████████████████▎           |  ETA: 0:00:25\u001b[39m\n",
      "\u001b[32mODE  77%|████████████████████████████████████▎          |  ETA: 0:00:22\u001b[39m\n",
      "\u001b[32mODE  79%|█████████████████████████████████████▎         |  ETA: 0:00:20\u001b[39m\n",
      "\u001b[32mODE  81%|██████████████████████████████████████▎        |  ETA: 0:00:17\u001b[39m\n",
      "\u001b[32mODE  83%|███████████████████████████████████████▏       |  ETA: 0:00:15\u001b[39m\n",
      "\u001b[32mODE  85%|████████████████████████████████████████▏      |  ETA: 0:00:13\u001b[39m\n",
      "\u001b[32mODE  88%|█████████████████████████████████████████▏     |  ETA: 0:00:11\u001b[39m\n",
      "\u001b[32mODE  90%|██████████████████████████████████████████▏    |  ETA: 0:00:09\u001b[39m\n",
      "\u001b[32mODE  92%|███████████████████████████████████████████▏   |  ETA: 0:00:07\u001b[39m\n",
      "\u001b[32mODE  94%|████████████████████████████████████████████   |  ETA: 0:00:05\u001b[39m\n",
      "\u001b[32mODE  96%|█████████████████████████████████████████████  |  ETA: 0:00:03\u001b[39m\n",
      "\u001b[32mODE  98%|██████████████████████████████████████████████ |  ETA: 0:00:02\u001b[39m\n",
      "\u001b[32mODE 100%|███████████████████████████████████████████████| Time: 0:01:17\u001b[39m\n",
      "\u001b[90mODE 100%|███████████████████████████████████████████████| Time: 0:01:17\u001b[39m\n"
     ]
    },
    {
     "name": "stdout",
     "output_type": "stream",
     "text": [
      " 85.975406 seconds (474.16 M allocations: 15.690 GiB, 1.98% gc time, 9.06% compilation time)\n",
      "[308.81739933127403, 687107.106657062, 0.130694473172715, 332.7862285876953]\n"
     ]
    },
    {
     "name": "stderr",
     "output_type": "stream",
     "text": [
      "\u001b[33m\u001b[1m┌ \u001b[22m\u001b[39m\u001b[33m\u001b[1mWarning: \u001b[22m\u001b[39mSkipped marker arg o-.\n",
      "\u001b[33m\u001b[1m└ \u001b[22m\u001b[39m\u001b[90m@ Plots /Users/claresinger/.julia/packages/Plots/HcxwM/src/args.jl:1178\u001b[39m\n"
     ]
    }
   ],
   "source": [
    "include(\"mlm_solve_funcs.jl\")\n",
    "\n",
    "# set co2\n",
    "newCO2 = 1200.0\n",
    "\n",
    "# load initial condition from file\n",
    "par = basic_params();\n",
    "par.etype = bflux();\n",
    "path = \"./output/bflux_timeevolve/\";\n",
    "output = load(path*\"co2_400.jld2\");\n",
    "u0 = output[\"uf\"];\n",
    "OHU = output[\"OHU\"];\n",
    "du = zeros(4);\n",
    "mlm(du, u0, par, 0.0);\n",
    "println(u0);\n",
    "println(du ./ u0);\n",
    "\n",
    "# set OHU, let SST evolve and check cloud changes\n",
    "par.CO2 = newCO2;\n",
    "par.Hw = 1;\n",
    "par.OHU = OHU;\n",
    "par.stype = varSST();\n",
    "u0, sol = run_mlm_from_init(u0, par, dt=3600.0*0.1, tspan=(0.0,3600.0*24.0*10.0));\n",
    "\n",
    "# get output\n",
    "code = sol.retcode;\n",
    "uf = sol.u[end];\n",
    "du = zeros(4);\n",
    "mlm(du, uf, par, 0.0);\n",
    "zi,hM,qM,SST = uf;\n",
    "zb = calc_LCL(zi,hM,qM);\n",
    "println(code);\n",
    "println(uf);\n",
    "println(du ./ uf);\n",
    "\n",
    "# save to file\n",
    "output = Dict(\"code\" => code, \"p\" => par, \"u0\" => u0, \"uf\" => uf, \"du/u\" => du./uf, \n",
    "\"we\" => we(uf,par,par.etype), \"zb\" => zb, \"zc\" => zi-zb,\n",
    "\"RHsurf\" => RH(0.0, hM, qM), \"LHF\" => calc_LHF(uf,par), \"SHF\" => calc_SHF(uf,par),\n",
    "\"ΔR\" => calc_cloudtop_RAD(uf,par,par.rtype), \"OHU\" => calc_OHU(uf,par,par.stype))\n",
    "save(path*\"co2_upstep_\"*string(Int(newCO2))*\".jld2\", output)\n",
    "\n",
    "# run steady-state\n",
    "u0, solss = run_mlm_ss_from_init(u0, par, dt=3600.0*0.1, tspan=3600.0*24.0*10.0);\n",
    "uf = solss.u;\n",
    "println(uf);\n",
    "\n",
    "# plot\n",
    "t = sol.t / 3600.0 / 24.0\n",
    "zi = getindex.(sol.u,1)\n",
    "hM = getindex.(sol.u,2) * 1e-3\n",
    "qtM = getindex.(sol.u,3) * 1e3\n",
    "SST = getindex.(sol.u,4)\n",
    "plot(t, [zi, hM, qtM, SST], marker=\"o-\", \n",
    "    label=[\"zi(t) [m]\" \"hM(t) [kJ/kg]\" \"qtM(t) [g/kg]\" \"SST(t) [K]\"], legend=:top, layout=(4,1))\n",
    "hline!([uf[1]], label=\"SS, \"*string(round(uf[1],digits=1))*\" [m]\", subplot=1)\n",
    "hline!([uf[2]*1e-3], label=\"SS, \"*string(round(uf[2]*1e-3,digits=1))*\" [kJ/kg]\", subplot=2)\n",
    "hline!([uf[3]*1e3], label=\"SS, \"*string(round(uf[3]*1e3,digits=2))*\" [g/kg]\", subplot=3)\n",
    "hline!([uf[4]], label=\"SS, \"*string(round(uf[4],digits=1))*\" [K]\", subplot=4)\n",
    "title!(\"slab-ocean @ \"*string(newCO2)*\" (ppm)\", subplot=1)\n",
    "xaxis!(\"t (days)\", subplot=4)\n",
    "mkpath(replace(path, \"output\" => \"figures\"))\n",
    "savefig(replace(path, \"output\" => \"figures\")*\"co2_upstep_\"*string(Int(newCO2))*\".png\")"
   ]
  },
  {
   "cell_type": "code",
   "execution_count": null,
   "metadata": {},
   "outputs": [],
   "source": []
  }
 ],
 "metadata": {
  "kernelspec": {
   "display_name": "Julia 1.6.2",
   "language": "julia",
   "name": "julia-1.6"
  },
  "language_info": {
   "file_extension": ".jl",
   "mimetype": "application/julia",
   "name": "julia",
   "version": "1.6.2"
  }
 },
 "nbformat": 4,
 "nbformat_minor": 4
}
