{
 "cells": [
  {
   "cell_type": "code",
   "execution_count": null,
   "metadata": {},
   "outputs": [
    {
     "name": "stderr",
     "output_type": "stream",
     "text": [
      "┌ Info: Precompiling FileIO [5789e2e9-d7fb-5bc7-8068-2c6fae9b9549]\n",
      "└ @ Base loading.jl:1278\n",
      "┌ Info: Precompiling PyPlot [d330b81b-6aea-500a-939a-2ce795aea3ee]\n",
      "└ @ Base loading.jl:1278\n",
      "┌ Info: Precompiling MixedLayerModel [45e51734-b38e-40e9-bdad-5745a9e5fe6d]\n",
      "└ @ Base loading.jl:1278\n"
     ]
    }
   ],
   "source": [
    "using FileIO\n",
    "using PyPlot\n",
    "using LaTeXStrings\n",
    "using MixedLayerModel"
   ]
  },
  {
   "cell_type": "code",
   "execution_count": null,
   "metadata": {},
   "outputs": [],
   "source": [
    "out400 = load(\"../experiments/output/co2_400.jld2\")\n",
    "out500 = load(\"../experiments/output/co2_upstep_500.jld2\")\n",
    "out600 = load(\"../experiments/output/co2_upstep_600.jld2\")\n",
    "out700 = load(\"../experiments/output/co2_upstep_700.jld2\")\n",
    "out800 = load(\"../experiments/output/co2_upstep_800.jld2\")\n",
    "\n",
    "p = basic_params();"
   ]
  },
  {
   "cell_type": "code",
   "execution_count": null,
   "metadata": {},
   "outputs": [],
   "source": [
    "function profile(u, maxz)\n",
    "    zi, hM, qM, SST = u;\n",
    "    \n",
    "    stepz = 1.0;\n",
    "    z1 = collect(0:stepz:zi); z2 = collect(zi:stepz:maxz);\n",
    "    z = [z1;z2];\n",
    "    \n",
    "    h = [hM .* ones(length(z1)); h_ft(z2, p)];\n",
    "    qt = [qM .* ones(length(z1)); q_ft(z2, p)];\n",
    "    \n",
    "    θ = theta(z,h,qt); # K\n",
    "    \n",
    "    T = temp.(z,h,qt);\n",
    "    ql = q_l(z,T,qt) * 1000.0; # kg/kg -> g/kg\n",
    "    \n",
    "    return z, θ, ql \n",
    "end"
   ]
  },
  {
   "cell_type": "code",
   "execution_count": null,
   "metadata": {},
   "outputs": [],
   "source": [
    "rcParams = PyPlot.PyDict(PyPlot.matplotlib.\"rcParams\");\n",
    "rcParams[\"font.size\"] = 15;\n",
    "\n",
    "fig1 = figure(figsize=(10,8));\n",
    "ax1 = subplot(121);\n",
    "ax2 = subplot(122);\n",
    "\n",
    "exps = [out400, out500, out600, out700, out800];\n",
    "co2 = [400, 500, 600, 700, 800];\n",
    "maxz = 2000;\n",
    "\n",
    "for (i,o) in enumerate(exps)\n",
    "    u = o[\"uf\"];\n",
    "    z, θ, ql = profile(u, maxz)\n",
    "    ax1.plot(θ, z)\n",
    "    ax2.plot(ql, z, label=string(co2[i])*\" ppm\")\n",
    "end\n",
    "\n",
    "ax1.set_ylim([0,maxz]); ax2.set_ylim([0,maxz]);\n",
    "ax1.set_ylabel(\"z (m)\");\n",
    "ax1.set_xlabel(\"θ (K)\"); ax2.set_xlabel(\"ql (g/kg)\");\n",
    "legend();\n",
    "tight_layout();\n",
    "show()"
   ]
  },
  {
   "cell_type": "code",
   "execution_count": null,
   "metadata": {},
   "outputs": [],
   "source": [
    "rcParams = PyPlot.PyDict(PyPlot.matplotlib.\"rcParams\");\n",
    "rcParams[\"font.size\"] = 15;\n",
    "\n",
    "fig1 = figure(figsize=(8,8));\n",
    "ax1 = subplot(121);\n",
    "ax2 = subplot(122);\n",
    "\n",
    "exps = [out400, out500, out600, out700, out800];\n",
    "co2 = [400, 500, 600, 700, 800];\n",
    "\n",
    "for (i,o) in enumerate(exps)\n",
    "    u = o[\"uf\"];\n",
    "    co2i = co2[i];\n",
    "    zi, hM, qM, SST = u;\n",
    "    lwp = calc_LWP(zi, hM, qM) * 1000;\n",
    "    ax1.plot(co2i, lwp, \"o\")\n",
    "    ax2.plot(co2i, SST, \"o\")\n",
    "end\n",
    "\n",
    "ax2.set_xlabel(L\"CO$_2$ (ppm)\"); \n",
    "ax1.set_ylabel(L\"LWP (g/m$^2$)\"); ax2.set_ylabel(\"SST (K)\");\n",
    "tight_layout();\n",
    "show()"
   ]
  },
  {
   "cell_type": "code",
   "execution_count": null,
   "metadata": {},
   "outputs": [],
   "source": []
  }
 ],
 "metadata": {
  "kernelspec": {
   "display_name": "Julia 1.5.2",
   "language": "julia",
   "name": "julia-1.5"
  },
  "language_info": {
   "file_extension": ".jl",
   "mimetype": "application/julia",
   "name": "julia",
   "version": "1.5.2"
  }
 },
 "nbformat": 4,
 "nbformat_minor": 4
}
